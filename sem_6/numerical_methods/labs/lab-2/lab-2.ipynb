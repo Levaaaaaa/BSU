{
 "cells": [
  {
   "cell_type": "markdown",
   "id": "74d8c48d",
   "metadata": {},
   "source": [
    "# Lab 2.1\n",
    "Пользуясь выражением для погрешности интерполирования, определить шаг h в составной квадратурной формуле средних прямоугольников, которая обеспечит требуемую точность результата."
   ]
  },
  {
   "cell_type": "code",
   "execution_count": 9,
   "id": "d7ff71af",
   "metadata": {},
   "outputs": [
    {
     "name": "stdout",
     "output_type": "stream",
     "text": [
      "Интеграл ≈ 2.69024840\n",
      "Истинное значение = 2.69024228345371\n",
      "Истинная погрешность - 6.114488520836403e-06\n",
      "Оценка погрешности - 9.999959277137309e-06\n",
      "Использовано разбиений N - 206589\n",
      "Величина шага h - 4.840528779363857e-06\n"
     ]
    }
   ],
   "source": [
    "import math\n",
    "\n",
    "# Заданные параметры\n",
    "a = 0.7\n",
    "b = 1.7\n",
    "epsilon = 1e-5\n",
    "\n",
    "# Производная функции: f'(x) = 0.7e^x + 0.3cos(x)\n",
    "# Найдём максимум производной на отрезке [a, b]\n",
    "max_f_derivative = 0.7 * math.exp(b) + 0.3 * 1  # cos(x) <= 1\n",
    "\n",
    "# Вычислим необходимый шаг h\n",
    "h = (2 * epsilon) / ((b - a) * max_f_derivative)\n",
    "\n",
    "# Количество интервалов (округляем вверх)\n",
    "n = math.ceil((b - a) / h)\n",
    "\n",
    "# Перерасчитаем шаг с учётом n\n",
    "h = (b - a) / n\n",
    "\n",
    "# Метод правых прямоугольников\n",
    "def f(x):\n",
    "    return 0.7 * math.exp(x) + 0.3 * math.sin(x)\n",
    "\n",
    "def true_integral(a, b):\n",
    "    return 0.7 * math.exp(b) - 0.3 * math.cos(b) - (0.7 * math.exp(a) - 0.3 * math.cos(a))\n",
    "\n",
    "integral = 0\n",
    "for i in range(1, n + 1):\n",
    "    x_i = a + i * h  # правая граница i-го отрезка\n",
    "    integral += f(x_i)\n",
    "\n",
    "integral *= h\n",
    "true_val = true_integral(a,b)\n",
    "error = abs(true_val - integral)\n",
    "error_estimate = ((b - a)**2 / 2) * max_f_derivative * h\n",
    "\n",
    "print(f\"Интеграл ≈ {integral:.8f}\")\n",
    "print(f'Истинное значение = {true_val}')\n",
    "print(f'Истинная погрешность - {error}')\n",
    "print(f'Оценка погрешности - {error_estimate}')\n",
    "print(f'Использовано разбиений N - {n}')\n",
    "print(f'Величина шага h - {h}')"
   ]
  },
  {
   "cell_type": "markdown",
   "id": "283d3bed",
   "metadata": {},
   "source": [
    "# Lab 2.2.\n",
    "Для СКФ из п.1 определить величину h шага разбиения исходного отрезка интегрирования, достаточного для достижения точности  $\\varepsilon$, по правилу Рунге."
   ]
  },
  {
   "cell_type": "code",
   "execution_count": 10,
   "id": "c0d192c5",
   "metadata": {},
   "outputs": [
    {
     "name": "stdout",
     "output_type": "stream",
     "text": [
      "Результат интегрирования:     2.69024614\n",
      "Истинное значение             2.69024228\n",
      "Истинная ошибка:              3.854936988734181e-06\n",
      "Итоговый шаг h:               3.0517578125e-06\n",
      "Число отрезков N:             327680\n",
      "Оценка погрешности по Рунге:  7.71e-06\n"
     ]
    }
   ],
   "source": [
    "import math\n",
    "\n",
    "# Заданная функция\n",
    "def f(x):\n",
    "    return 0.7 * math.exp(x) + 0.3 * math.sin(x)\n",
    "\n",
    "# Метод правых прямоугольников\n",
    "def right_rectangle_integral(a, b, n):\n",
    "    h = (b - a) / n\n",
    "    result = 0.0\n",
    "    for i in range(1, n + 1):\n",
    "        x = a + i * h\n",
    "        result += f(x)\n",
    "    return result * h\n",
    "\n",
    "# Метод Рунге для правых прямоугольников\n",
    "def runge_right_rectangle(a, b, epsilon):\n",
    "    p = 1  # порядок точности для правых прямоугольников\n",
    "    N1 = 5\n",
    "    N2 = 2 * N1\n",
    "\n",
    "    q1 = right_rectangle_integral(a, b, N1)\n",
    "    q2 = right_rectangle_integral(a, b, N2)\n",
    "\n",
    "    while True:\n",
    "        R = abs(q2 - q1) / (1 - (N1 / N2))  # эквивалентно R = 2 * |q2 - q1|, так как N2 = 2 * N1\n",
    "\n",
    "        if R <= epsilon:\n",
    "            return q2, (b - a) / N2, N2, R  # значение интеграла, шаг, число разбиений, погрешность\n",
    "\n",
    "        N1 = N2\n",
    "        N2 = 2 * N2\n",
    "        q1 = q2\n",
    "        q2 = right_rectangle_integral(a, b, N2)\n",
    "\n",
    "# Параметры\n",
    "a = 0.7\n",
    "b = 1.7\n",
    "epsilon = 1e-5\n",
    "\n",
    "# Запуск алгоритма\n",
    "interpolated, h_final, N_final, error = runge_right_rectangle(a, b, epsilon)\n",
    "true_val = true_integral(a,b)\n",
    "true_error_2 = abs(true_val - interpolated)\n",
    "\n",
    "# Вывод\n",
    "print(f\"Результат интегрирования:     {interpolated:.8f}\")\n",
    "print(f'Истинное значение             {true_val:.8f}')\n",
    "print(f'Истинная ошибка:              {true_error_2}')\n",
    "print(f\"Итоговый шаг h:               {h_final}\")\n",
    "print(f\"Число отрезков N:             {N_final}\")\n",
    "print(f\"Оценка погрешности по Рунге:  {error:.2e}\")\n"
   ]
  },
  {
   "cell_type": "markdown",
   "id": "4f602a6b",
   "metadata": {},
   "source": [
    "# Lab 2.3.\n",
    "Применить квадратурную формулу НАСТ Гаусса при указанном значении n. Оценить погрешность интегрирования через формулу остаточного члена $R_n(f)$, n = 3."
   ]
  },
  {
   "cell_type": "code",
   "execution_count": 24,
   "id": "255b02cd",
   "metadata": {},
   "outputs": [
    {
     "name": "stdout",
     "output_type": "stream",
     "text": [
      "Приближённое значение (Гаусс, n=4): 2.6902422820\n",
      "Точное значение (quad):               2.6902422835\n",
      "Истинная погрешность:                 1.47e-09\n",
      "Оценка остаточного члена:             1.39e-12\n",
      "Корни Xk - [0.7694318442029737, 1.030009478207572, 1.369990521792428, 1.6305681557970262]\n",
      "Коэффициенты Аk - [0.34785485 0.65214515 0.65214515 0.34785485]\n",
      "Приведенные Xk - [-0.86113631 -0.33998104  0.33998104  0.86113631]\n"
     ]
    }
   ],
   "source": [
    "import math\n",
    "import numpy as np\n",
    "from scipy.integrate import quad\n",
    "from numpy.polynomial.legendre import leggauss\n",
    "from scipy.optimize import minimize_scalar\n",
    "\n",
    "# 10-я производная (совпадает с f)\n",
    "def f_10_derivative(x):\n",
    "    return 0.7 * math.exp(x) - 0.3 * math.sin(x)\n",
    "\n",
    "# Гаусс-КФ на [a, b] с произвольным n\n",
    "def gauss_integrate(f, a, b, n):\n",
    "    # Вычисление узлов и весов Гаусса на [-1, 1]\n",
    "    nodes, weights = leggauss(n)\n",
    "\n",
    "    # Преобразуем на [a, b]\n",
    "    half = (b - a) / 2\n",
    "    mid = (a + b) / 2\n",
    "\n",
    "    result = 0\n",
    "    x_mapped = []\n",
    "    for xi, wi in zip(nodes, weights):\n",
    "        x_mapped.append(half * xi + mid)\n",
    "        result += wi * f(x_mapped[-1])\n",
    "\n",
    "    return half * result, nodes, weights, x_mapped\n",
    "\n",
    "# Оценка остаточного члена R_n(f)\n",
    "def estimate_gauss_error(a, b, n):\n",
    "    # Максимум f^(10)(x) ≈ максимум f(x) на [a, b]\n",
    "    #x_vals = [a, (a + b) / 2, b]\n",
    "    res = minimize_scalar(lambda x: -abs(f_10_derivative(x)), bounds=(a, b), method='bounded')\n",
    "    max_f10 = f_10_derivative(res.x)\n",
    "\n",
    "    # Часть на [-1, 1]\n",
    "    numerator = 2**(2*n + 3)\n",
    "    denominator = (2*n + 3) * math.factorial(2*n + 2)\n",
    "    factor = (math.factorial(n + 1)**2 / math.factorial(2*n + 2))**2\n",
    "\n",
    "    Rn_standard = (numerator / denominator) * factor * max_f10\n",
    "\n",
    "    # Переход на [a, b]\n",
    "    scale = ((b - a) / 2)**(2*n + 3)\n",
    "    Rn_scaled = scale * Rn_standard\n",
    "    return Rn_scaled\n",
    "\n",
    "# Основной расчёт\n",
    "a, b = 0.7, 1.7\n",
    "n = 4\n",
    "\n",
    "approx, x, A, x_mapped = gauss_integrate(f, a, b, n)\n",
    "true_value, _ = quad(f, a, b)\n",
    "true_error = abs(approx - true_value)\n",
    "error_estimate = estimate_gauss_error(a, b, n)\n",
    "\n",
    "# Вывод\n",
    "print(f\"Приближённое значение (Гаусс, n={n}): {approx:.10f}\")\n",
    "print(f\"Точное значение (quad):               {true_value:.10f}\")\n",
    "print(f\"Истинная погрешность:                 {true_error:.2e}\")\n",
    "print(f\"Оценка остаточного члена:             {error_estimate:.2e}\")\n",
    "print(f'Корни Xk - {x_mapped}')\n",
    "print(f'Коэффициенты Аk - {A}')\n",
    "print(f'Приведенные Xk - {x}')\n"
   ]
  },
  {
   "cell_type": "markdown",
   "id": "c51fd06f",
   "metadata": {},
   "source": [
    "# Lab 2.4.\n",
    "Провести сравнительный анализ полученных результатов."
   ]
  }
 ],
 "metadata": {
  "kernelspec": {
   "display_name": "Python 3",
   "language": "python",
   "name": "python3"
  },
  "language_info": {
   "codemirror_mode": {
    "name": "ipython",
    "version": 3
   },
   "file_extension": ".py",
   "mimetype": "text/x-python",
   "name": "python",
   "nbconvert_exporter": "python",
   "pygments_lexer": "ipython3",
   "version": "3.12.6"
  }
 },
 "nbformat": 4,
 "nbformat_minor": 5
}
