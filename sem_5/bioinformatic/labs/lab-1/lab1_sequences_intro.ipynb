{
 "cells": [
  {
   "cell_type": "markdown",
   "id": "552d3ddd-7b04-438e-847e-93feb24d21a8",
   "metadata": {},
   "source": [
    "# Лаб.1 Работа с биологическими последовательностями"
   ]
  },
  {
   "cell_type": "markdown",
   "id": "754a3401-9068-4216-b850-85427af91479",
   "metadata": {},
   "source": [
    "### Для данной лабораторной установите пакет программ для биоинформатики Biopython "
   ]
  },
  {
   "cell_type": "code",
   "execution_count": 1,
   "id": "41719c0e-4457-4614-a867-a3c86b2b4080",
   "metadata": {},
   "outputs": [],
   "source": [
    "# !pip install biopython"
   ]
  },
  {
   "cell_type": "markdown",
   "id": "26cc11b5-97be-4d4b-924f-7aae4c9d4958",
   "metadata": {},
   "source": [
    "### Все задания необходимо постараться выполнить на чистом python и с использованием функций biopython"
   ]
  },
  {
   "cell_type": "code",
   "execution_count": 2,
   "id": "5832fb8d-8f14-4834-9a65-2716dd3443d7",
   "metadata": {},
   "outputs": [],
   "source": [
    "dna_seq = \"ATGGTACCGTTAAGCTGACTTACCGTACCGAGGATCCGACATGCCCTGGAATCGTACGATCGCCTGAGCGTAACGTACCGAGG\\\n",
    "ACCATGACGTCAGGCCATCGTGACCTAGGACGCTTACGACCGTGGCAGTCCGACGCTCGATCGCGGACCGTACGTCGATGCCAGGCTGACATGG\\\n",
    "ACCGTCGTACGAGCTGATGACCGTACCGGAGGACCGGACGTACGTATCGGACGTCGATCGATGCCAGGCTGACCAGGACGTCGTCAGGCCGACC\\\n",
    "GGAGGACTACCGTGACCGTACCTACCGTACGTCGCTAGGACTCCGACTACGTCAGGATGACCGTCGTGACGCTCGATGCCAGCGATGCCGACCG\\\n",
    "TACCGGACGACGTCGACTGACCGTACCGAGCTGACCTAGACGACCGGACTACCGTACCGTGACCGTAGGATGATCAGCGACCTAGTACCGACTA\\\n",
    "CGACCGGACTGACCGTACCTAGGACTACGTCGACTGAGCTAGGACCGTACGA\""
   ]
  },
  {
   "cell_type": "code",
   "execution_count": 3,
   "id": "e278204a-c5f7-4b40-a41a-8a87db60de9a",
   "metadata": {},
   "outputs": [],
   "source": [
    "from Bio.Seq import Seq\n",
    "\n",
    "sequence = Seq(dna_seq)"
   ]
  },
  {
   "cell_type": "markdown",
   "id": "4f17b1e2-8492-4937-abb2-5a32bb18f9f6",
   "metadata": {},
   "source": [
    "Длина последовательности ДНК"
   ]
  },
  {
   "cell_type": "code",
   "execution_count": 4,
   "id": "954cb7a4-490b-455b-9d18-9db22a7e8852",
   "metadata": {},
   "outputs": [
    {
     "name": "stdout",
     "output_type": "stream",
     "text": [
      "511\n"
     ]
    }
   ],
   "source": [
    "from Bio.Seq import Seq\n",
    "sequence = Seq(\"ATGGTACCGTTAAGCTGACTTACCGTACCGAGGATCCGACATGCCCTGGAATCGTACGATCGCCTGAGCGTAACGTACCGAGG\\\n",
    "ACCATGACGTCAGGCCATCGTGACCTAGGACGCTTACGACCGTGGCAGTCCGACGCTCGATCGCGGACCGTACGTCGATGCCAGGCTGACATGG\\\n",
    "ACCGTCGTACGAGCTGATGACCGTACCGGAGGACCGGACGTACGTATCGGACGTCGATCGATGCCAGGCTGACCAGGACGTCGTCAGGCCGACC\\\n",
    "GGAGGACTACCGTGACCGTACCTACCGTACGTCGCTAGGACTCCGACTACGTCAGGATGACCGTCGTGACGCTCGATGCCAGCGATGCCGACCG\\\n",
    "TACCGGACGACGTCGACTGACCGTACCGAGCTGACCTAGACGACCGGACTACCGTACCGTGACCGTAGGATGATCAGCGACCTAGTACCGACTA\\\n",
    "CGACCGGACTGACCGTACCTAGGACTACGTCGACTGAGCTAGGACCGTACGA\")\n",
    "length = sequence.__len__()\n",
    "print(length)"
   ]
  },
  {
   "cell_type": "markdown",
   "id": "4283e923-64cd-488c-80f8-b876e8258c5c",
   "metadata": {},
   "source": [
    "## 1. Проверить действительно ли последовательность - последовательность ДНК"
   ]
  },
  {
   "cell_type": "code",
   "execution_count": 10,
   "id": "de04c792-1a46-4f5f-b422-9ea5fc0ba2bc",
   "metadata": {},
   "outputs": [
    {
     "name": "stdout",
     "output_type": "stream",
     "text": [
      "True\n"
     ]
    }
   ],
   "source": [
    "def is_dna_seq(seq):\n",
    "    valid = set(\"ATCG\")\n",
    "    return set(seq.upper()).issubset(valid)\n",
    "print(is_dna_seq(dna_seq))"
   ]
  },
  {
   "cell_type": "markdown",
   "id": "521a4bd9-3fea-4339-a041-0a3f07854718",
   "metadata": {},
   "source": [
    "## 2.  Получите последовательность РНК из заданной последовательности ДНК"
   ]
  },
  {
   "cell_type": "code",
   "execution_count": 6,
   "id": "d8d7171f-271b-4201-8b48-8ee194a5b0f7",
   "metadata": {},
   "outputs": [
    {
     "name": "stdout",
     "output_type": "stream",
     "text": [
      "AUGGUACCGUUAAGCUGACUUACCGUACCGAGGAUCCGACAUGCCCUGGAAUCGUACGAUCGCCUGAGCGUAACGUACCGAGGACCAUGACGUCAGGCCAUCGUGACCUAGGACGCUUACGACCGUGGCAGUCCGACGCUCGAUCGCGGACCGUACGUCGAUGCCAGGCUGACAUGGACCGUCGUACGAGCUGAUGACCGUACCGGAGGACCGGACGUACGUAUCGGACGUCGAUCGAUGCCAGGCUGACCAGGACGUCGUCAGGCCGACCGGAGGACUACCGUGACCGUACCUACCGUACGUCGCUAGGACUCCGACUACGUCAGGAUGACCGUCGUGACGCUCGAUGCCAGCGAUGCCGACCGUACCGGACGACGUCGACUGACCGUACCGAGCUGACCUAGACGACCGGACUACCGUACCGUGACCGUAGGAUGAUCAGCGACCUAGUACCGACUACGACCGGACUGACCGUACCUAGGACUACGUCGACUGAGCUAGGACCGUACGA\n"
     ]
    }
   ],
   "source": [
    "# python\n",
    "from Bio.Seq import Seq\n",
    "dna_seq = \"ATGGTACCGTTAAGCTGACTTACCGTACCGAGGATCCGACATGCCCTGGAATCGTACGATCGCCTGAGCGTAACGTACCGAGG\\\n",
    "ACCATGACGTCAGGCCATCGTGACCTAGGACGCTTACGACCGTGGCAGTCCGACGCTCGATCGCGGACCGTACGTCGATGCCAGGCTGACATGG\\\n",
    "ACCGTCGTACGAGCTGATGACCGTACCGGAGGACCGGACGTACGTATCGGACGTCGATCGATGCCAGGCTGACCAGGACGTCGTCAGGCCGACC\\\n",
    "GGAGGACTACCGTGACCGTACCTACCGTACGTCGCTAGGACTCCGACTACGTCAGGATGACCGTCGTGACGCTCGATGCCAGCGATGCCGACCG\\\n",
    "TACCGGACGACGTCGACTGACCGTACCGAGCTGACCTAGACGACCGGACTACCGTACCGTGACCGTAGGATGATCAGCGACCTAGTACCGACTA\\\n",
    "CGACCGGACTGACCGTACCTAGGACTACGTCGACTGAGCTAGGACCGTACGA\"\n",
    "rna_sequence = dna_seq.replace('T', 'U')\n",
    "print(rna_sequence)"
   ]
  },
  {
   "cell_type": "code",
   "execution_count": 7,
   "id": "f5fa8a49-37c4-4a8d-977a-a21ba648b357",
   "metadata": {},
   "outputs": [
    {
     "name": "stdout",
     "output_type": "stream",
     "text": [
      "AUGGUACCGUUAAGCUGACUUACCGUACCGAGGAUCCGACAUGCCCUGGAAUCGUACGAUCGCCUGAGCGUAACGUACCGAGGACCAUGACGUCAGGCCAUCGUGACCUAGGACGCUUACGACCGUGGCAGUCCGACGCUCGAUCGCGGACCGUACGUCGAUGCCAGGCUGACAUGGACCGUCGUACGAGCUGAUGACCGUACCGGAGGACCGGACGUACGUAUCGGACGUCGAUCGAUGCCAGGCUGACCAGGACGUCGUCAGGCCGACCGGAGGACUACCGUGACCGUACCUACCGUACGUCGCUAGGACUCCGACUACGUCAGGAUGACCGUCGUGACGCUCGAUGCCAGCGAUGCCGACCGUACCGGACGACGUCGACUGACCGUACCGAGCUGACCUAGACGACCGGACUACCGUACCGUGACCGUAGGAUGAUCAGCGACCUAGUACCGACUACGACCGGACUGACCGUACCUAGGACUACGUCGACUGAGCUAGGACCGUACGA\n"
     ]
    }
   ],
   "source": [
    "# biopython\n",
    "from Bio.Seq import Seq\n",
    "dna_seq = \"ATGGTACCGTTAAGCTGACTTACCGTACCGAGGATCCGACATGCCCTGGAATCGTACGATCGCCTGAGCGTAACGTACCGAGG\\\n",
    "ACCATGACGTCAGGCCATCGTGACCTAGGACGCTTACGACCGTGGCAGTCCGACGCTCGATCGCGGACCGTACGTCGATGCCAGGCTGACATGG\\\n",
    "ACCGTCGTACGAGCTGATGACCGTACCGGAGGACCGGACGTACGTATCGGACGTCGATCGATGCCAGGCTGACCAGGACGTCGTCAGGCCGACC\\\n",
    "GGAGGACTACCGTGACCGTACCTACCGTACGTCGCTAGGACTCCGACTACGTCAGGATGACCGTCGTGACGCTCGATGCCAGCGATGCCGACCG\\\n",
    "TACCGGACGACGTCGACTGACCGTACCGAGCTGACCTAGACGACCGGACTACCGTACCGTGACCGTAGGATGATCAGCGACCTAGTACCGACTA\\\n",
    "CGACCGGACTGACCGTACCTAGGACTACGTCGACTGAGCTAGGACCGTACGA\"\n",
    "rna_sequence_bio = Seq(dna_seq).transcribe()\n",
    "print(rna_sequence_bio)"
   ]
  },
  {
   "cell_type": "markdown",
   "id": "49f50213-6c7a-4338-91f0-0df0dcc02c2c",
   "metadata": {},
   "source": [
    "**Как называется процесс переписывания наследственной информации с молекулы ДНК на информационную (матричную) РНК?**\n",
    "\n",
    "_Транскрипция_"
   ]
  },
  {
   "cell_type": "markdown",
   "id": "d1da26f9-bf14-44ac-b26c-b34a48dd4db0",
   "metadata": {},
   "source": [
    "## 3. Постройте комплементарную цепочку ДНК"
   ]
  },
  {
   "cell_type": "code",
   "execution_count": 8,
   "id": "56e1526e-0075-4e8c-9e76-accf562cfef2",
   "metadata": {},
   "outputs": [
    {
     "name": "stdout",
     "output_type": "stream",
     "text": [
      "TACCATGGCAATTCGACTGAATGGCATGGCTCCTAGGCTGTACGGGACCTTAGCATGCTAGCGGACTCGCATTGCATGGCTCCTGGTACTGCAGTCCGGTAGCACTGGATCCTGCGAATGCTGGCACCGTCAGGCTGCGAGCTAGCGCCTGGCATGCAGCTACGGTCCGACTGTACCTGGCAGCATGCTCGACTACTGGCATGGCCTCCTGGCCTGCATGCATAGCCTGCAGCTAGCTACGGTCCGACTGGTCCTGCAGCAGTCCGGCTGGCCTCCTGATGGCACTGGCATGGATGGCATGCAGCGATCCTGAGGCTGATGCAGTCCTACTGGCAGCACTGCGAGCTACGGTCGCTACGGCTGGCATGGCCTGCTGCAGCTGACTGGCATGGCTCGACTGGATCTGCTGGCCTGATGGCATGGCACTGGCATCCTACTAGTCGCTGGATCATGGCTGATGCTGGCCTGACTGGCATGGATCCTGATGCAGCTGACTCGATCCTGGCATGCT\n"
     ]
    }
   ],
   "source": [
    "# python\n",
    "dna_seq = \"ATGGTACCGTTAAGCTGACTTACCGTACCGAGGATCCGACATGCCCTGGAATCGTACGATCGCCTGAGCGTAACGTACCGAGG\\\n",
    "ACCATGACGTCAGGCCATCGTGACCTAGGACGCTTACGACCGTGGCAGTCCGACGCTCGATCGCGGACCGTACGTCGATGCCAGGCTGACATGG\\\n",
    "ACCGTCGTACGAGCTGATGACCGTACCGGAGGACCGGACGTACGTATCGGACGTCGATCGATGCCAGGCTGACCAGGACGTCGTCAGGCCGACC\\\n",
    "GGAGGACTACCGTGACCGTACCTACCGTACGTCGCTAGGACTCCGACTACGTCAGGATGACCGTCGTGACGCTCGATGCCAGCGATGCCGACCG\\\n",
    "TACCGGACGACGTCGACTGACCGTACCGAGCTGACCTAGACGACCGGACTACCGTACCGTGACCGTAGGATGATCAGCGACCTAGTACCGACTA\\\n",
    "CGACCGGACTGACCGTACCTAGGACTACGTCGACTGAGCTAGGACCGTACGA\"\n",
    "dict = {\n",
    "    'A' : 'T',\n",
    "    'T' : 'A',\n",
    "    'G' : 'C',\n",
    "    'C' : 'G'    \n",
    "        }\n",
    "complementary_dna = ''.join([dict[c] for c in dna_seq])\n",
    "print(complementary_dna)"
   ]
  },
  {
   "cell_type": "code",
   "execution_count": 11,
   "id": "5a366517-6234-4cce-bc06-18885600d62e",
   "metadata": {},
   "outputs": [
    {
     "name": "stdout",
     "output_type": "stream",
     "text": [
      "TACCATGGCAATTCGACTGAATGGCATGGCTCCTAGGCTGTACGGGACCTTAGCATGCTAGCGGACTCGCATTGCATGGCTCCTGGTACTGCAGTCCGGTAGCACTGGATCCTGCGAATGCTGGCACCGTCAGGCTGCGAGCTAGCGCCTGGCATGCAGCTACGGTCCGACTGTACCTGGCAGCATGCTCGACTACTGGCATGGCCTCCTGGCCTGCATGCATAGCCTGCAGCTAGCTACGGTCCGACTGGTCCTGCAGCAGTCCGGCTGGCCTCCTGATGGCACTGGCATGGATGGCATGCAGCGATCCTGAGGCTGATGCAGTCCTACTGGCAGCACTGCGAGCTACGGTCGCTACGGCTGGCATGGCCTGCTGCAGCTGACTGGCATGGCTCGACTGGATCTGCTGGCCTGATGGCATGGCACTGGCATCCTACTAGTCGCTGGATCATGGCTGATGCTGGCCTGACTGGCATGGATCCTGATGCAGCTGACTCGATCCTGGCATGCT\n"
     ]
    }
   ],
   "source": [
    "# biopython\n",
    "from Bio.Seq import Seq\n",
    "dna_seq = \"ATGGTACCGTTAAGCTGACTTACCGTACCGAGGATCCGACATGCCCTGGAATCGTACGATCGCCTGAGCGTAACGTACCGAGG\\\n",
    "ACCATGACGTCAGGCCATCGTGACCTAGGACGCTTACGACCGTGGCAGTCCGACGCTCGATCGCGGACCGTACGTCGATGCCAGGCTGACATGG\\\n",
    "ACCGTCGTACGAGCTGATGACCGTACCGGAGGACCGGACGTACGTATCGGACGTCGATCGATGCCAGGCTGACCAGGACGTCGTCAGGCCGACC\\\n",
    "GGAGGACTACCGTGACCGTACCTACCGTACGTCGCTAGGACTCCGACTACGTCAGGATGACCGTCGTGACGCTCGATGCCAGCGATGCCGACCG\\\n",
    "TACCGGACGACGTCGACTGACCGTACCGAGCTGACCTAGACGACCGGACTACCGTACCGTGACCGTAGGATGATCAGCGACCTAGTACCGACTA\\\n",
    "CGACCGGACTGACCGTACCTAGGACTACGTCGACTGAGCTAGGACCGTACGA\"\n",
    "complementary_dna_bio = Seq(dna_seq).complement()\n",
    "print(complementary_dna_bio)"
   ]
  },
  {
   "cell_type": "markdown",
   "id": "44742905-117c-4f84-acdc-6dbdc2dfd934",
   "metadata": {},
   "source": [
    "## 4. Посчитайте кол-во различных нуклеотидов в заданной последовательности"
   ]
  },
  {
   "cell_type": "code",
   "execution_count": 25,
   "id": "2f696013-0261-4010-af26-36771d60d1ec",
   "metadata": {},
   "outputs": [
    {
     "name": "stdout",
     "output_type": "stream",
     "text": [
      "Number of Adenine = 115, Cytosine 159, Guanine 151, Thymine 86\n"
     ]
    }
   ],
   "source": [
    "# python\n",
    "dna_seq = \"ATGGTACCGTTAAGCTGACTTACCGTACCGAGGATCCGACATGCCCTGGAATCGTACGATCGCCTGAGCGTAACGTACCGAGG\\\n",
    "ACCATGACGTCAGGCCATCGTGACCTAGGACGCTTACGACCGTGGCAGTCCGACGCTCGATCGCGGACCGTACGTCGATGCCAGGCTGACATGG\\\n",
    "ACCGTCGTACGAGCTGATGACCGTACCGGAGGACCGGACGTACGTATCGGACGTCGATCGATGCCAGGCTGACCAGGACGTCGTCAGGCCGACC\\\n",
    "GGAGGACTACCGTGACCGTACCTACCGTACGTCGCTAGGACTCCGACTACGTCAGGATGACCGTCGTGACGCTCGATGCCAGCGATGCCGACCG\\\n",
    "TACCGGACGACGTCGACTGACCGTACCGAGCTGACCTAGACGACCGGACTACCGTACCGTGACCGTAGGATGATCAGCGACCTAGTACCGACTA\\\n",
    "CGACCGGACTGACCGTACCTAGGACTACGTCGACTGAGCTAGGACCGTACGA\"\n",
    "a_count = list(dna_seq).count('A')\n",
    "c = list(dna_seq).count('C')\n",
    "g = list(dna_seq).count('G')\n",
    "t = list(dna_seq).count('T')\n",
    "print(f\"Number of Adenine = {a_count}, Cytosine {c}, Guanine {g}, Thymine {t}\")"
   ]
  },
  {
   "cell_type": "code",
   "execution_count": 27,
   "id": "a53d6f8f-b4a7-4a8f-8c87-dbcd5af83f9c",
   "metadata": {},
   "outputs": [
    {
     "name": "stdout",
     "output_type": "stream",
     "text": [
      "Number of Adenine = 115, Cytosine 159, Guanine 151, Thymine 159\n"
     ]
    }
   ],
   "source": [
    "# biopython\n",
    "from Bio.Seq import Seq\n",
    "from collections import Counter\n",
    "dna_seq = \"ATGGTACCGTTAAGCTGACTTACCGTACCGAGGATCCGACATGCCCTGGAATCGTACGATCGCCTGAGCGTAACGTACCGAGG\\\n",
    "ACCATGACGTCAGGCCATCGTGACCTAGGACGCTTACGACCGTGGCAGTCCGACGCTCGATCGCGGACCGTACGTCGATGCCAGGCTGACATGG\\\n",
    "ACCGTCGTACGAGCTGATGACCGTACCGGAGGACCGGACGTACGTATCGGACGTCGATCGATGCCAGGCTGACCAGGACGTCGTCAGGCCGACC\\\n",
    "GGAGGACTACCGTGACCGTACCTACCGTACGTCGCTAGGACTCCGACTACGTCAGGATGACCGTCGTGACGCTCGATGCCAGCGATGCCGACCG\\\n",
    "TACCGGACGACGTCGACTGACCGTACCGAGCTGACCTAGACGACCGGACTACCGTACCGTGACCGTAGGATGATCAGCGACCTAGTACCGACTA\\\n",
    "CGACCGGACTGACCGTACCTAGGACTACGTCGACTGAGCTAGGACCGTACGA\"\n",
    "seq = Seq(dna_seq)\n",
    "count = Counter(seq)\n",
    "print(f\"Number of Adenine = {count['A']}, Cytosine {count['C']}, Guanine {count['G']}, Thymine {count['C']}\")"
   ]
  },
  {
   "cell_type": "markdown",
   "id": "be4a22cd-64ff-4541-8dd6-8545f33c7612",
   "metadata": {},
   "source": [
    "## 5.  Посчитайте GC-состав (GC - content) для всей заданной последовательности"
   ]
  },
  {
   "cell_type": "code",
   "execution_count": 31,
   "id": "e37de315-d560-44a0-b203-8f9dec008ca8",
   "metadata": {},
   "outputs": [
    {
     "name": "stdout",
     "output_type": "stream",
     "text": [
      "GC Content: 60.67%\n"
     ]
    }
   ],
   "source": [
    "#python\n",
    "dna_seq = \"ATGGTACCGTTAAGCTGACTTACCGTACCGAGGATCCGACATGCCCTGGAATCGTACGATCGCCTGAGCGTAACGTACCGAGG\\\n",
    "ACCATGACGTCAGGCCATCGTGACCTAGGACGCTTACGACCGTGGCAGTCCGACGCTCGATCGCGGACCGTACGTCGATGCCAGGCTGACATGG\\\n",
    "ACCGTCGTACGAGCTGATGACCGTACCGGAGGACCGGACGTACGTATCGGACGTCGATCGATGCCAGGCTGACCAGGACGTCGTCAGGCCGACC\\\n",
    "GGAGGACTACCGTGACCGTACCTACCGTACGTCGCTAGGACTCCGACTACGTCAGGATGACCGTCGTGACGCTCGATGCCAGCGATGCCGACCG\\\n",
    "TACCGGACGACGTCGACTGACCGTACCGAGCTGACCTAGACGACCGGACTACCGTACCGTGACCGTAGGATGATCAGCGACCTAGTACCGACTA\\\n",
    "CGACCGGACTGACCGTACCTAGGACTACGTCGACTGAGCTAGGACCGTACGA\"\n",
    "gc_count = list(dna_seq).count('G') + list(dna_seq).count('C')\n",
    "gc_percentage = gc_count / len(dna_seq) * 100\n",
    "print(f\"GC Content: {gc_percentage:.2f}%\")"
   ]
  },
  {
   "cell_type": "code",
   "execution_count": 37,
   "id": "d5ae0df8-1830-4dda-946d-59ce144c11dd",
   "metadata": {},
   "outputs": [
    {
     "name": "stdout",
     "output_type": "stream",
     "text": [
      "60.665362035225044\n"
     ]
    }
   ],
   "source": [
    "# biopython\n",
    "from Bio.Seq import Seq\n",
    "from Bio.SeqUtils import gc_fraction\n",
    "dna_seq = \"ATGGTACCGTTAAGCTGACTTACCGTACCGAGGATCCGACATGCCCTGGAATCGTACGATCGCCTGAGCGTAACGTACCGAGG\\\n",
    "ACCATGACGTCAGGCCATCGTGACCTAGGACGCTTACGACCGTGGCAGTCCGACGCTCGATCGCGGACCGTACGTCGATGCCAGGCTGACATGG\\\n",
    "ACCGTCGTACGAGCTGATGACCGTACCGGAGGACCGGACGTACGTATCGGACGTCGATCGATGCCAGGCTGACCAGGACGTCGTCAGGCCGACC\\\n",
    "GGAGGACTACCGTGACCGTACCTACCGTACGTCGCTAGGACTCCGACTACGTCAGGATGACCGTCGTGACGCTCGATGCCAGCGATGCCGACCG\\\n",
    "TACCGGACGACGTCGACTGACCGTACCGAGCTGACCTAGACGACCGGACTACCGTACCGTGACCGTAGGATGATCAGCGACCTAGTACCGACTA\\\n",
    "CGACCGGACTGACCGTACCTAGGACTACGTCGACTGAGCTAGGACCGTACGA\"\n",
    "\n",
    "dna = Seq(dna_seq)\n",
    "print(gc_fraction(dna) * 100)\n",
    "#print((dna.count('C') + dna.count('G')) / dna.__len__() * 100)"
   ]
  },
  {
   "cell_type": "markdown",
   "id": "1fd7659b-1458-4459-8142-831c17bdddc4",
   "metadata": {},
   "source": [
    "**Зачем вообще считать GC-content?**\n",
    "\n",
    "_напишите ответ здесь_"
   ]
  },
  {
   "cell_type": "markdown",
   "id": "4fe4547c-8a2d-421b-be52-54b14dfbc006",
   "metadata": {},
   "source": [
    "### (?) **Что такое кодон? Что такое трансляция?**"
   ]
  },
  {
   "cell_type": "markdown",
   "id": "3592cacf",
   "metadata": {},
   "source": [
    "__Кодон — единица генетического кода, тройка нуклеотидных остатков в ДНК или РНК, обычно кодирующих включение одной аминокислоты.__\n",
    "\n",
    "__Трансляция — осуществляемый рибосомой процесс синтеза белка из аминокислот на матрице информационной РНК; реализация генетической информации.__"
   ]
  },
  {
   "cell_type": "markdown",
   "id": "66a3a0e3-49dc-4563-ad4d-a578d99ee8b2",
   "metadata": {},
   "source": [
    "## 6. Получите белковую последовательность по заданной последовательности ДНК"
   ]
  },
  {
   "cell_type": "code",
   "execution_count": 70,
   "id": "555b07bb-f88c-4500-8b32-2de6a424998c",
   "metadata": {},
   "outputs": [
    {
     "name": "stdout",
     "output_type": "stream",
     "text": [
      "MVPLS*LTVPRIRHALESYDRLSVTYRGP*RQAIVT*DAYDRGSPTLDRGPYVDARLTWTVVRADDRTGGPDVRIGRRSMPG*PGRRQADRRTTVTVPTVRR*DSDYVRMTVVTLDASDADRTGRRRLTVPS*PRRPDYRTVTVG*SAT*YRLRPD*PYLGLRRLS*DRT\n"
     ]
    }
   ],
   "source": [
    "# python\n",
    "codon_table = {\n",
    "    \"ATA\": \"I\", \"ATC\": \"I\", \"ATT\": \"I\", \"ATG\": \"M\",\n",
    "    \"ACA\": \"T\", \"ACC\": \"T\", \"ACG\": \"T\", \"ACT\": \"T\",\n",
    "    \"AAC\": \"N\", \"AAT\": \"N\", \"AAA\": \"K\", \"AAG\": \"K\",\n",
    "    \"AGC\": \"S\", \"AGT\": \"S\", \"AGA\": \"R\", \"AGG\": \"R\",\n",
    "    \"CTA\": \"L\", \"CTC\": \"L\", \"CTG\": \"L\", \"CTT\": \"L\",\n",
    "    \"CCA\": \"P\", \"CCC\": \"P\", \"CCG\": \"P\", \"CCT\": \"P\",\n",
    "    \"CAC\": \"H\", \"CAT\": \"H\", \"CAA\": \"Q\", \"CAG\": \"Q\",\n",
    "    \"CGA\": \"R\", \"CGC\": \"R\", \"CGG\": \"R\", \"CGT\": \"R\",\n",
    "    \"GTA\": \"V\", \"GTC\": \"V\", \"GTG\": \"V\", \"GTT\": \"V\",\n",
    "    \"GCA\": \"A\", \"GCC\": \"A\", \"GCG\": \"A\", \"GCT\": \"A\",\n",
    "    \"GAC\": \"D\", \"GAT\": \"D\", \"GAA\": \"E\", \"GAG\": \"E\",\n",
    "    \"GGA\": \"G\", \"GGC\": \"G\", \"GGG\": \"G\", \"GGT\": \"G\",\n",
    "    \"TCA\": \"S\", \"TCC\": \"S\", \"TCG\": \"S\", \"TCT\": \"S\",\n",
    "    \"TTC\": \"F\", \"TTT\": \"F\", \"TTA\": \"L\", \"TTG\": \"L\",\n",
    "    \"TAC\": \"Y\", \"TAT\": \"Y\", \"TAA\": \"*\", \"TAG\": \"*\",\n",
    "    \"TGC\": \"C\", \"TGT\": \"C\", \"TGA\": \"*\", \"TGG\": \"W\"\n",
    "}\n",
    "\n",
    "dna_seq = \"ATGGTACCGTTAAGCTGACTTACCGTACCGAGGATCCGACATGCCCTGGAATCGTACGATCGCCTGAGCGTAACGTACCGAGG\\\n",
    "ACCATGACGTCAGGCCATCGTGACCTAGGACGCTTACGACCGTGGCAGTCCGACGCTCGATCGCGGACCGTACGTCGATGCCAGGCTGACATGG\\\n",
    "ACCGTCGTACGAGCTGATGACCGTACCGGAGGACCGGACGTACGTATCGGACGTCGATCGATGCCAGGCTGACCAGGACGTCGTCAGGCCGACC\\\n",
    "GGAGGACTACCGTGACCGTACCTACCGTACGTCGCTAGGACTCCGACTACGTCAGGATGACCGTCGTGACGCTCGATGCCAGCGATGCCGACCG\\\n",
    "TACCGGACGACGTCGACTGACCGTACCGAGCTGACCTAGACGACCGGACTACCGTACCGTGACCGTAGGATGATCAGCGACCTAGTACCGACTA\\\n",
    "CGACCGGACTGACCGTACCTAGGACTACGTCGACTGAGCTAGGACCGTACGA\"\n",
    "\n",
    "dna_seq = dna_seq[:-(len(dna_seq) % 3)]\n",
    "dna_list = [dna_seq[i: i+3] for i in range(0, len(dna_seq), 3)]\n",
    "belok = ''.join([codon_table[c] for c in dna_list])\n",
    "print(belok)\n"
   ]
  },
  {
   "cell_type": "code",
   "execution_count": 49,
   "id": "107c4b42-9aa7-47bd-ad21-59f5d8ca18bb",
   "metadata": {},
   "outputs": [
    {
     "name": "stdout",
     "output_type": "stream",
     "text": [
      "MVPLS*LTVPRIRHALESYDRLSVTYRGP*RQAIVT*DAYDRGSPTLDRGPYVDARLTWTVVRADDRTGGPDVRIGRRSMPG*PGRRQADRRTTVTVPTVRR*DSDYVRMTVVTLDASDADRTGRRRLTVPS*PRRPDYRTVTVG*SAT*YRLRPD*PYLGLRRLS*DRT\n"
     ]
    },
    {
     "name": "stderr",
     "output_type": "stream",
     "text": [
      "c:\\Users\\User\\AppData\\Local\\Programs\\Python\\Python311\\Lib\\site-packages\\Bio\\Seq.py:2879: BiopythonWarning: Partial codon, len(sequence) not a multiple of three. Explicitly trim the sequence or add trailing N before translation. This may become an error in future.\n",
      "  warnings.warn(\n"
     ]
    }
   ],
   "source": [
    "# biopython\n",
    "from Bio.Seq import Seq\n",
    "dna_seq = \"ATGGTACCGTTAAGCTGACTTACCGTACCGAGGATCCGACATGCCCTGGAATCGTACGATCGCCTGAGCGTAACGTACCGAGG\\\n",
    "ACCATGACGTCAGGCCATCGTGACCTAGGACGCTTACGACCGTGGCAGTCCGACGCTCGATCGCGGACCGTACGTCGATGCCAGGCTGACATGG\\\n",
    "ACCGTCGTACGAGCTGATGACCGTACCGGAGGACCGGACGTACGTATCGGACGTCGATCGATGCCAGGCTGACCAGGACGTCGTCAGGCCGACC\\\n",
    "GGAGGACTACCGTGACCGTACCTACCGTACGTCGCTAGGACTCCGACTACGTCAGGATGACCGTCGTGACGCTCGATGCCAGCGATGCCGACCG\\\n",
    "TACCGGACGACGTCGACTGACCGTACCGAGCTGACCTAGACGACCGGACTACCGTACCGTGACCGTAGGATGATCAGCGACCTAGTACCGACTA\\\n",
    "CGACCGGACTGACCGTACCTAGGACTACGTCGACTGAGCTAGGACCGTACGA\"\n",
    "\n",
    "print(Seq(dna_seq).translate())"
   ]
  },
  {
   "cell_type": "markdown",
   "id": "b4010c69-b0c0-4fe0-bd68-17e6f5e16773",
   "metadata": {},
   "source": [
    "**Какие проблемы возникли у вас при трансляции? Возникли ли?**\n",
    "\n",
    "_Если да, то какие вы можете предложить варианты их решения_"
   ]
  },
  {
   "cell_type": "markdown",
   "id": "dfc02158-3657-4340-b9ee-647d141fe663",
   "metadata": {},
   "source": []
  }
 ],
 "metadata": {
  "kernelspec": {
   "display_name": "Python 3 (ipykernel)",
   "language": "python",
   "name": "python3"
  },
  "language_info": {
   "codemirror_mode": {
    "name": "ipython",
    "version": 3
   },
   "file_extension": ".py",
   "mimetype": "text/x-python",
   "name": "python",
   "nbconvert_exporter": "python",
   "pygments_lexer": "ipython3",
   "version": "3.11.9"
  }
 },
 "nbformat": 4,
 "nbformat_minor": 5
}
