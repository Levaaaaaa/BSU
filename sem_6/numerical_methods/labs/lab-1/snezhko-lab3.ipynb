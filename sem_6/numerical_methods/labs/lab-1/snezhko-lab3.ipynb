{
 "cells": [
  {
   "cell_type": "markdown",
   "id": "2a97e230",
   "metadata": {},
   "source": [
    "# 3. Интерполирование с помощью кубического сплайна"
   ]
  },
  {
   "cell_type": "markdown",
   "id": "b52a4796",
   "metadata": {},
   "source": [
    "Рассмотрим сетку $\\{x_i\\}_{i=0}^n, x_i \\in [a,b]$ i = 1, ..., n\n",
    "$$a = x_0 < ... < x_{n-1} < x_n = b$$\n",
    "Построим разбиение $\\Delta = \\{\\Delta_i\\}$, $\\Delta_i = [x_{i-1}, x_i]$\n"
   ]
  },
  {
   "cell_type": "markdown",
   "id": "6c5a0d6d",
   "metadata": {},
   "source": [
    "Для $m \\geq 0$ и разбиения $\\Delta$ рассмотрим функцию s, определенную на [a,b] и обладающую следующими свойствами:\n",
    "- $s(x)\\vert_{x \\in \\Delta_i} = s_i(x), s_i \\in \\mathbb{P}_m$ \n",
    "- $s \\in C^{m-1}[a,b]$ \n",
    "\n",
    "Такая функция s называется __полиномиальным сплайном__ порядка m. Множество таких сплайнов обозначим $S_{\\Delta}^m$"
   ]
  },
  {
   "cell_type": "markdown",
   "id": "f0d7c385",
   "metadata": {},
   "source": [
    "Сплайн s будем называть __интерполяционным__ для функции f, если\n",
    "$$s(x_i) = f(x_i) = y_i,\\ \\forall i = \\overline{1,n}$$ "
   ]
  },
  {
   "cell_type": "markdown",
   "id": "9613fcee",
   "metadata": {},
   "source": [
    "Понятно, что интерполяционный сплайн $𝑠 \\in 𝑆_{\\Delta}^1$ представляет собой кусочно-линейную функцию (график — ломаная линия), построенную по точкам $\\{(𝑥𝑖 , 𝑦𝑖 )\\}^𝑛_{𝑖=0}=0$ . Больший интерес, конечно, представляют сплайны высших степеней. \n",
    "\n",
    "Наиболее распростренёнными являются кубические интерполяционные сплайны."
   ]
  },
  {
   "cell_type": "markdown",
   "id": "8a4fe3e5",
   "metadata": {},
   "source": [
    "Будем вычислять интерполический сплайн 3-го порядка в виде:\n",
    "$$𝑠_𝑖(𝑥) = \\alpha_𝑖 + \\beta_𝑖 (𝑥 − 𝑥_𝑖) +\\frac{\\gamma_𝑖}{2}(𝑥 − 𝑥_𝑖)^2 + \\frac{\\delta_𝑖}{6}(𝑥 − 𝑥_𝑖 )^3$$\n",
    "$$𝑥 \\in \\Delta_i = [𝑥_{𝑖−1}, 𝑥_𝑖 ]$$"
   ]
  },
  {
   "cell_type": "markdown",
   "id": "e9c95855",
   "metadata": {},
   "source": [
    "Для вычисления коэффициентов сплайна используем формулы:\n",
    "$$\\alpha_i = 𝑦_i \\ \\ \\ i = \\overline{1,n}$$\n",
    "$$\\beta_𝑖 = \\frac{𝑦_𝑖 − 𝑦_{𝑖−1}}{ℎ_𝑖} + \\frac{2𝛾_𝑖 + 𝛾_{𝑖−1}}{6}ℎ_𝑖 \\ \\ \\ i = \\overline{1,n}$$\n",
    "$$\\delta_𝑖 = \\frac{\\gamma_𝑖 − \\gamma_{𝑖−1}}{ℎ_𝑖}, \\ \\ \\  𝑖 = \\overline{2, 𝑛}$$"
   ]
  },
  {
   "cell_type": "markdown",
   "id": "069be49e",
   "metadata": {},
   "source": [
    "Чтобы найти $\\gamma_i$ необходимо решить СЛАУ:\n",
    "$$ℎ_𝑖\\gamma_{𝑖−1} + 2(ℎ_𝑖 + ℎ_{𝑖+1})\\gamma_𝑖 + ℎ_{𝑖+1}\\gamma_{𝑖+1} = 6(︂\\frac{𝑦_{𝑖+1} − 𝑦_𝑖}{ℎ_{𝑖+1}}−\\frac{𝑦_𝑖−𝑦_{𝑖−1}}{ℎ_𝑖})︂$$\n",
    "например, методом прогонки."
   ]
  },
  {
   "cell_type": "markdown",
   "id": "61bc4201",
   "metadata": {},
   "source": [
    "Имеем n-1 уравнение для нахождения n+1 неизвестных, для однозначной разрешимости СЛАУ необходимо задать ещё два уравнения:\n",
    "$$𝑠′(𝑎) = 𝑓′(𝑎)$$\n",
    "$$𝑠′(𝑏) = 𝑓′(𝑏)$$\n",
    "Эти уравнения называются __граничными условиями__ (в нашем примере это _неестественные граничные условия_)"
   ]
  },
  {
   "cell_type": "markdown",
   "id": "0da0b2ad",
   "metadata": {},
   "source": [
    "Погрешность интерполяции будем оценивать по формуле:\n",
    "$$|r(x)| \\leq h^4 \\max\\limits_{x \\in [a,b]}|f^{(4)}(x)|$$"
   ]
  },
  {
   "cell_type": "code",
   "execution_count": 253,
   "id": "9b28b28a",
   "metadata": {},
   "outputs": [
    {
     "name": "stdout",
     "output_type": "stream",
     "text": [
      "Requirement already satisfied: tabulate in c:\\users\\user\\appdata\\local\\programs\\python\\python311\\lib\\site-packages (0.9.0)\n",
      "Note: you may need to restart the kernel to use updated packages.\n"
     ]
    },
    {
     "name": "stderr",
     "output_type": "stream",
     "text": [
      "\n",
      "[notice] A new release of pip is available: 24.2 -> 25.0.1\n",
      "[notice] To update, run: python.exe -m pip install --upgrade pip\n"
     ]
    },
    {
     "name": "stdout",
     "output_type": "stream",
     "text": [
      "Requirement already satisfied: sympy in c:\\users\\user\\appdata\\local\\programs\\python\\python311\\lib\\site-packages (1.13.3)\n",
      "Requirement already satisfied: mpmath<1.4,>=1.1.0 in c:\\users\\user\\appdata\\local\\programs\\python\\python311\\lib\\site-packages (from sympy) (1.3.0)\n",
      "Note: you may need to restart the kernel to use updated packages.\n"
     ]
    },
    {
     "name": "stderr",
     "output_type": "stream",
     "text": [
      "\n",
      "[notice] A new release of pip is available: 24.2 -> 25.0.1\n",
      "[notice] To update, run: python.exe -m pip install --upgrade pip\n"
     ]
    }
   ],
   "source": [
    "%pip install tabulate\n",
    "%pip install sympy"
   ]
  },
  {
   "cell_type": "code",
   "execution_count": 254,
   "id": "1d31299b",
   "metadata": {},
   "outputs": [],
   "source": [
    "import numpy as np\n",
    "import math\n",
    "from tabulate import tabulate\n",
    "import matplotlib.pyplot as plt\n",
    "import pandas as pd\n",
    "import sympy as sp"
   ]
  },
  {
   "cell_type": "code",
   "execution_count": 255,
   "id": "5d0c431c",
   "metadata": {},
   "outputs": [
    {
     "name": "stdout",
     "output_type": "stream",
     "text": [
      "  x     f(x)\n",
      "---  -------\n",
      "0.7  1.60289\n",
      "0.8  1.77309\n",
      "0.9  1.95672\n",
      "1    2.15524\n",
      "1.1  2.37028\n",
      "1.2  2.60369\n",
      "1.3  2.85758\n",
      "1.4  3.13427\n",
      "1.5  3.43643\n",
      "1.6  3.76699\n",
      "1.7  4.12926\n",
      "\n",
      "Специальные точки\n",
      "      x*    f(x*)\n",
      "--------  -------\n",
      "0.766667  1.71493\n",
      "1.25      2.72794\n",
      "1.66667   4.00477\n"
     ]
    }
   ],
   "source": [
    "j = 12\n",
    "n = 10\n",
    "alpha_j = 0.1 + 0.05*j\n",
    "a = alpha_j\n",
    "b = 1+alpha_j\n",
    "h = 1/n\n",
    "\n",
    "def f(x):\n",
    "    return alpha_j * math.exp(x) + (1 - alpha_j) * math.sin(x)\n",
    "    \n",
    "x_vals = np.array([alpha_j + i * h for i in range(n+1)])\n",
    "f_vals = np.array([f(x_) for x_ in x_vals])\n",
    "x_star = np.array([x_vals[0] + 2/3*h, x_vals[n // 2] + 0.5 * h, x_vals[-1] - h/3])\n",
    "f_star = np.array([f(x_) for x_ in x_star])\n",
    "\n",
    "print(tabulate(zip(x_vals, f_vals), headers=['x', 'f(x)']))\n",
    "print('\\nСпециальные точки')\n",
    "print(tabulate(zip(x_star, f_star), headers=['x*', 'f(x*)']))"
   ]
  },
  {
   "cell_type": "code",
   "execution_count": null,
   "id": "d88a45d7",
   "metadata": {},
   "outputs": [],
   "source": [
    "x_sym = sp.Symbol('x')\n",
    "f_sym = alpha_j * sp.exp(x_sym) + (1 - alpha_j) * sp.sin(x_sym)\n",
    "f_diff_2 = sp.lambdify(x_sym, sp.diff(f_sym, x_sym, 2), 'numpy')\n",
    "f_diff_4_abs = sp.lambdify(x_sym, sp.Abs(sp.diff(f_sym, x_sym, 4)),'numpy')"
   ]
  },
  {
   "cell_type": "code",
   "execution_count": 257,
   "id": "120994b1",
   "metadata": {},
   "outputs": [
    {
     "name": "stdout",
     "output_type": "stream",
     "text": [
      "      gamma_i\n",
      "--  ---------\n",
      " 0    1.21636\n",
      " 1    1.68458\n",
      " 2    1.32659\n",
      " 3    1.60755\n",
      " 4    1.75422\n",
      " 5    1.96218\n",
      " 6    2.18634\n",
      " 7    2.43682\n",
      " 8    2.73089\n",
      " 9    3.00169\n",
      "10    3.53426\n"
     ]
    }
   ],
   "source": [
    "def solve_spline_system(x, y):\n",
    "    \n",
    "    a_coef = [0] * n\n",
    "    b_coef = [0] * n\n",
    "\n",
    "    for i in range(1, n):\n",
    "        temp1 = 6 * ((f_vals[i + 1] - f_vals[i]) - (f_vals[i] - f_vals[i - 1])) / h\n",
    "        temp2 = 4 * h\n",
    "        a_coef[i] = -h / temp2\n",
    "        b_coef[i] = (temp1 - h * b_coef[i - 1]) / temp2\n",
    "\n",
    "    for i in range(n - 1, 0, -1):\n",
    "        gamma[i] = a_coef[i] * gamma[i + 1] + b_coef[i]\n",
    "\n",
    "    gamma[0] = f_diff_2(x_vals[0])\n",
    "    gamma[n] = f_diff_2(x_vals[-1])\n",
    "    return gamma\n",
    "\n",
    "gamma = solve_spline_system(x_vals, f_vals)\n",
    "print(tabulate(enumerate(gamma), headers=['gamma_i']))"
   ]
  },
  {
   "cell_type": "code",
   "execution_count": null,
   "id": "a930bc0a",
   "metadata": {},
   "outputs": [
    {
     "name": "stdout",
     "output_type": "stream",
     "text": [
      "<function build_cubic_spline.<locals>.spline_func at 0x000001BF2ADD1300>\n"
     ]
    }
   ],
   "source": [
    "def build_cubic_spline(x, y, gamma):\n",
    "   \n",
    "    # Коэффициенты для каждого интервала [x_i, x_{i+1}]\n",
    "    a = y\n",
    "    b = np.zeros(n+1)\n",
    "    c = [g / 2 for g in gamma]\n",
    "    d = np.zeros(n+1)\n",
    "    for i in range(1, n+1):\n",
    "        b[i] = (y[i] - y[i-1]) / h + (2 * gamma[i] + gamma[i-1]) * h / 6\n",
    "    for i in range(1, n+1): \n",
    "        d[i] = (gamma[i] - gamma[i-1]) / (6 * h)\n",
    "\n",
    "    def spline_func(xq):\n",
    "        # Найти соответствующий интервал\n",
    "        \n",
    "        i = np.searchsorted(x, xq)\n",
    "        dx = xq - x[i]\n",
    "        return a[i] + b[i]*dx + c[i]*dx**2 + d[i]*dx**3\n",
    "        # for i in range(1, n+1):\n",
    "        #     if x[i-1] <= xq and xq <= x[i]:\n",
    "        #         dx = xq - x[i]\n",
    "        #         result = a[i] + b[i]*dx + c[i]*dx**2 + d[i]*dx**3\n",
    "        #         return result\n",
    "        # return 0.0\n",
    "\n",
    "    return spline_func\n",
    "\n",
    "spline = build_cubic_spline(x_vals, f_vals, gamma)\n",
    "print(spline)\n"
   ]
  },
  {
   "cell_type": "code",
   "execution_count": 259,
   "id": "727484cf",
   "metadata": {},
   "outputs": [],
   "source": [
    "x_segment = np.linspace(a,b, 1000)\n",
    "error_bound = h**4 * np.max(f_diff_4_abs(x_segment))"
   ]
  },
  {
   "cell_type": "code",
   "execution_count": 260,
   "id": "8c1ebcb1",
   "metadata": {},
   "outputs": [
    {
     "data": {
      "text/html": [
       "<div>\n",
       "<style scoped>\n",
       "    .dataframe tbody tr th:only-of-type {\n",
       "        vertical-align: middle;\n",
       "    }\n",
       "\n",
       "    .dataframe tbody tr th {\n",
       "        vertical-align: top;\n",
       "    }\n",
       "\n",
       "    .dataframe thead th {\n",
       "        text-align: right;\n",
       "    }\n",
       "</style>\n",
       "<table border=\"1\" class=\"dataframe\">\n",
       "  <thead>\n",
       "    <tr style=\"text-align: right;\">\n",
       "      <th></th>\n",
       "      <th>Точка</th>\n",
       "      <th>Значение функции</th>\n",
       "      <th>Интерполированное значение</th>\n",
       "      <th>Истинная погрешность</th>\n",
       "      <th>Оценка погрешности</th>\n",
       "    </tr>\n",
       "  </thead>\n",
       "  <tbody>\n",
       "    <tr>\n",
       "      <th>0</th>\n",
       "      <td>0.766667</td>\n",
       "      <td>1.714927</td>\n",
       "      <td>1.714714</td>\n",
       "      <td>0.000213</td>\n",
       "      <td>0.000413</td>\n",
       "    </tr>\n",
       "    <tr>\n",
       "      <th>1</th>\n",
       "      <td>1.250000</td>\n",
       "      <td>2.727935</td>\n",
       "      <td>2.728042</td>\n",
       "      <td>0.000106</td>\n",
       "      <td>0.000413</td>\n",
       "    </tr>\n",
       "    <tr>\n",
       "      <th>2</th>\n",
       "      <td>1.666667</td>\n",
       "      <td>4.004765</td>\n",
       "      <td>4.004843</td>\n",
       "      <td>0.000077</td>\n",
       "      <td>0.000413</td>\n",
       "    </tr>\n",
       "  </tbody>\n",
       "</table>\n",
       "</div>"
      ],
      "text/plain": [
       "      Точка  Значение функции  Интерполированное значение  \\\n",
       "0  0.766667          1.714927                    1.714714   \n",
       "1  1.250000          2.727935                    2.728042   \n",
       "2  1.666667          4.004765                    4.004843   \n",
       "\n",
       "   Истинная погрешность  Оценка погрешности  \n",
       "0              0.000213            0.000413  \n",
       "1              0.000106            0.000413  \n",
       "2              0.000077            0.000413  "
      ]
     },
     "metadata": {},
     "output_type": "display_data"
    }
   ],
   "source": [
    "f_interpolated = [spline(x_) for x_ in x_star] \n",
    "true_error = abs(f_star - f_interpolated)\n",
    "data = pd.DataFrame({\n",
    "    'Точка' : x_star,\n",
    "    'Значение функции' : f_star,\n",
    "    'Интерполированное значение' : f_interpolated,\n",
    "    'Истинная погрешность' : true_error,\n",
    "    'Оценка погрешности' : error_bound\n",
    "})\n",
    "\n",
    "display(data)"
   ]
  },
  {
   "cell_type": "code",
   "execution_count": 263,
   "id": "894873b9",
   "metadata": {},
   "outputs": [
    {
     "data": {
      "image/png": "[encoded data removed]",
      "text/plain": [
       "<Figure size 800x500 with 1 Axes>"
      ]
     },
     "metadata": {},
     "output_type": "display_data"
    }
   ],
   "source": [
    "import matplotlib.pyplot as plt\n",
    "\n",
    "# Интервал для графика\n",
    "x_plot = x_vals #np.linspace(0.7, 1.7, 500)\n",
    "y_plot = [f(x_) for x_ in x_plot]\n",
    "\n",
    "# Построение графика\n",
    "plt.figure(figsize=(8, 5))\n",
    "plt.plot(x_plot, y_plot, label=r'$f(x) = \\alpha_j e^x + (1 - \\alpha_j) \\sin(x)$', color='blue')\n",
    "plt.title('График функции f(x)')\n",
    "plt.xlabel('x')\n",
    "plt.ylabel('f(x)')\n",
    "plt.grid(True)\n",
    "plt.legend()\n",
    "plt.show()"
   ]
  }
 ],
 "metadata": {
  "kernelspec": {
   "display_name": "Python 3",
   "language": "python",
   "name": "python3"
  },
  "language_info": {
   "codemirror_mode": {
    "name": "ipython",
    "version": 3
   },
   "file_extension": ".py",
   "mimetype": "text/x-python",
   "name": "python",
   "nbconvert_exporter": "python",
   "pygments_lexer": "ipython3",
   "version": "3.11.9"
  }
 },
 "nbformat": 4,
 "nbformat_minor": 5
}
