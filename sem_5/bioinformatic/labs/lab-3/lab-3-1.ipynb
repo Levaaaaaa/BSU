{
 "cells": [
  {
   "cell_type": "code",
   "execution_count": 20,
   "metadata": {},
   "outputs": [],
   "source": [
    "def cyclopeptide_spectrum(peptide):\n",
    "    \"\"\"Функция вычисления циклического спектра пептида.\"\"\"\n",
    "    prefix_mass = [0]\n",
    "    for aa in peptide:\n",
    "        prefix_mass.append(prefix_mass[-1] + aa)\n",
    "    \n",
    "    peptide_mass = prefix_mass[-1]\n",
    "    cyclic_spectrum = [0]\n",
    "    \n",
    "    for i in range(len(peptide)):\n",
    "        for j in range(i + 1, len(peptide) + 1):\n",
    "            cyclic_spectrum.append(prefix_mass[j] - prefix_mass[i])\n",
    "            if i > 0 and j < len(peptide):\n",
    "                cyclic_spectrum.append(peptide_mass - (prefix_mass[j] - prefix_mass[i]))\n",
    "    \n",
    "    return sorted(cyclic_spectrum)\n",
    "\n",
    "\n",
    "def consistent(peptide, spectrum):\n",
    "    \"\"\"Функция проверки соответствия спектру.\"\"\"\n",
    "    peptide_spectrum = cyclopeptide_spectrum(peptide)\n",
    "    for mass in peptide_spectrum:\n",
    "        if peptide_spectrum.count(mass) > spectrum.count(mass):\n",
    "            return False\n",
    "    return True\n",
    "\n",
    "\n",
    "def CyclopeptideSequencing(spectrum):\n",
    "    \"\"\"Функция, реализующая метод ветвей и границ для секвенирования циклопептида.\"\"\"\n",
    "    masses = [57, 71, 87, 97, 99, 101, 103, 113, 114, 115, 128, 129, 131, 137, 147, 156, 163, 186]\n",
    "    peptides = [[]]\n",
    "    final_peptides = []\n",
    "\n",
    "    while peptides:\n",
    "        peptides = [peptide + [mass] for peptide in peptides for mass in masses]\n",
    "        new_peptides = []\n",
    "        \n",
    "        for peptide in peptides:\n",
    "            if sum(peptide) == max(spectrum):  # проверяем, равна ли масса пептида максимальной массе спектра\n",
    "                if cyclopeptide_spectrum(peptide) == spectrum:\n",
    "                    final_peptides.append(peptide)\n",
    "            elif sum(peptide) < max(spectrum):  # если масса пептида меньше максимальной, продолжаем расширение\n",
    "                if consistent(peptide, spectrum):\n",
    "                    new_peptides.append(peptide)\n",
    "        \n",
    "        peptides = new_peptides\n",
    "\n",
    "    return final_peptides\n"
   ]
  },
  {
   "cell_type": "code",
   "execution_count": 17,
   "metadata": {},
   "outputs": [],
   "source": [
    "mass_table = {\n",
    "    'G' : 57,\n",
    "    'A' : 71,\n",
    "    'S' : 87,\n",
    "    'P' : 97,\n",
    "    'V' : 99,\n",
    "    'T' : 101,\n",
    "    'C' : 103,\n",
    "    'I' : 113,\n",
    "    'L' : 113,\n",
    "    'N' : 114,\n",
    "    'D' : 115,\n",
    "    'K' : 128,\n",
    "    'Q' : 128,\n",
    "    'E' : 129,\n",
    "    'M' : 131,\n",
    "    'H' : 137,\n",
    "    'F' : 147,\n",
    "    'R' : 156,\n",
    "    'Y' : 163,\n",
    "    'W' : 186\n",
    "}"
   ]
  },
  {
   "cell_type": "code",
   "execution_count": 21,
   "metadata": {},
   "outputs": [],
   "source": [
    "peptide = [mass_table[i] for i in 'WFNQYVK']\n",
    "result = CyclopeptideSequencing(cyclopeptide_spectrum(peptide))"
   ]
  },
  {
   "cell_type": "code",
   "execution_count": 23,
   "metadata": {},
   "outputs": [
    {
     "name": "stdout",
     "output_type": "stream",
     "text": [
      "Spectrum: [0, 99, 114, 128, 128, 147, 163, 186, 227, 242, 261, 262, 291, 314, 333, 389, 390, 390, 405, 413, 447, 461, 504, 518, 552, 560, 575, 575, 576, 632, 651, 674, 703, 704, 723, 738, 779, 802, 818, 837, 837, 851, 866, 965]\n",
      "Possible sequences:\n"
     ]
    }
   ],
   "source": [
    "spectrum_example = cyclopeptide_spectrum(peptide)\n",
    "print(\"Spectrum:\", spectrum_example)\n",
    "\n",
    "result = CyclopeptideSequencing(spectrum_example)\n",
    "print(\"Possible sequences:\")\n",
    "for peptide in result:\n",
    "    print(peptide)"
   ]
  }
 ],
 "metadata": {
  "kernelspec": {
   "display_name": "Python 3",
   "language": "python",
   "name": "python3"
  },
  "language_info": {
   "codemirror_mode": {
    "name": "ipython",
    "version": 3
   },
   "file_extension": ".py",
   "mimetype": "text/x-python",
   "name": "python",
   "nbconvert_exporter": "python",
   "pygments_lexer": "ipython3",
   "version": "3.11.9"
  }
 },
 "nbformat": 4,
 "nbformat_minor": 2
}
