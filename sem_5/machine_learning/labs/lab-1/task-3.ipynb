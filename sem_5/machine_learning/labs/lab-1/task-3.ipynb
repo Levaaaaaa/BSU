{
 "cells": [
  {
   "cell_type": "code",
   "execution_count": 39,
   "metadata": {},
   "outputs": [
    {
     "data": {
      "text/plain": [
       "(32136, 6)"
      ]
     },
     "execution_count": 39,
     "metadata": {},
     "output_type": "execute_result"
    }
   ],
   "source": [
    "import numpy as np\n",
    "import pandas as pd\n",
    "import matplotlib.pyplot as plt\n",
    "\n",
    "base = './'\n",
    "data = pd.read_csv(base + 'organisations.csv')\n",
    "features = pd.read_csv(base + 'features.csv')\n",
    "rubrics = pd.read_csv(base + 'rubrics.csv')\n",
    "new_data = data.dropna(subset=['average_bill'])\n",
    "new_data = new_data.loc[new_data['average_bill'] <= 2500]\n",
    "new_data.shape\n"
   ]
  },
  {
   "cell_type": "code",
   "execution_count": 47,
   "metadata": {},
   "outputs": [
    {
     "data": {
      "text/plain": [
       "{'rubric_id': {0: 30519,\n",
       "  1: 30770,\n",
       "  2: 30771,\n",
       "  3: 30774,\n",
       "  4: 30775,\n",
       "  5: 30776,\n",
       "  6: 30777,\n",
       "  7: 31286,\n",
       "  8: 31350,\n",
       "  9: 31375,\n",
       "  10: 31401,\n",
       "  11: 31495,\n",
       "  12: 3108292683,\n",
       "  13: 3501514558,\n",
       "  14: 3501750896},\n",
       " 'rubric_name': {0: 'Булочная, пекарня',\n",
       "  1: 'Бар, паб',\n",
       "  2: 'Быстрое питание',\n",
       "  3: 'Кафе',\n",
       "  4: 'Пиццерия',\n",
       "  5: 'Ресторан',\n",
       "  6: 'Столовая',\n",
       "  7: 'Спортбар',\n",
       "  8: 'Кондитерская',\n",
       "  9: 'Суши-бар',\n",
       "  10: 'Кальян-бар',\n",
       "  11: 'Кофейня',\n",
       "  12: 'Бар безалкогольных напитков',\n",
       "  13: 'Фудкорт',\n",
       "  14: 'Кофе с собой'}}"
      ]
     },
     "execution_count": 47,
     "metadata": {},
     "output_type": "execute_result"
    }
   ],
   "source": [
    "features_dict = features.to_dict()\n",
    "rubrics_dict = rubrics.to_dict()\n",
    "rubrics_dict"
   ]
  },
  {
   "cell_type": "code",
   "execution_count": 25,
   "metadata": {},
   "outputs": [
    {
     "data": {
      "text/plain": [
       "(array([1., 1., 0., 0., 0., 0., 0., 1., 0., 0., 0., 0., 0., 1., 0., 0., 0.,\n",
       "        0., 0., 0., 1., 1., 0., 1., 0., 0., 0., 0., 0., 0., 0., 0., 0., 0.,\n",
       "        0., 0., 1., 0., 1., 1.]),\n",
       " array([0.07371783, 0.0950638 , 0.11640977, 0.13775574, 0.15910171,\n",
       "        0.18044767, 0.20179364, 0.22313961, 0.24448558, 0.26583154,\n",
       "        0.28717751, 0.30852348, 0.32986945, 0.35121542, 0.37256138,\n",
       "        0.39390735, 0.41525332, 0.43659929, 0.45794525, 0.47929122,\n",
       "        0.50063719, 0.52198316, 0.54332913, 0.56467509, 0.58602106,\n",
       "        0.60736703, 0.628713  , 0.65005896, 0.67140493, 0.6927509 ,\n",
       "        0.71409687, 0.73544284, 0.7567888 , 0.77813477, 0.79948074,\n",
       "        0.82082671, 0.84217267, 0.86351864, 0.88486461, 0.90621058,\n",
       "        0.92755655]),\n",
       " <BarContainer object of 40 artists>)"
      ]
     },
     "execution_count": 25,
     "metadata": {},
     "output_type": "execute_result"
    },
    {
     "data": {
      "image/png": "[encoded data removed]",
      "text/plain": [
       "<Figure size 640x480 with 1 Axes>"
      ]
     },
     "metadata": {},
     "output_type": "display_data"
    }
   ],
   "source": [
    "arr = np.random.rand(10)\n",
    "plt.hist(arr, bins=40)"
   ]
  }
 ],
 "metadata": {
  "kernelspec": {
   "display_name": "Python 3",
   "language": "python",
   "name": "python3"
  },
  "language_info": {
   "codemirror_mode": {
    "name": "ipython",
    "version": 3
   },
   "file_extension": ".py",
   "mimetype": "text/x-python",
   "name": "python",
   "nbconvert_exporter": "python",
   "pygments_lexer": "ipython3",
   "version": "3.11.9"
  }
 },
 "nbformat": 4,
 "nbformat_minor": 2
}
