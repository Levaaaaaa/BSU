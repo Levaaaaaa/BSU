{
 "cells": [
  {
   "cell_type": "code",
   "execution_count": 1,
   "metadata": {},
   "outputs": [],
   "source": [
    "import numpy as np\n",
    "from collections import Counter"
   ]
  },
  {
   "cell_type": "code",
   "execution_count": 2,
   "metadata": {},
   "outputs": [],
   "source": [
    "mass_table = {\n",
    "    'G' : 57,\n",
    "    'A' : 71,\n",
    "    'S' : 87,\n",
    "    'P' : 97,\n",
    "    'V' : 99,\n",
    "    'T' : 101,\n",
    "    'C' : 103,\n",
    "    'I' : 113,\n",
    "    'L' : 113,\n",
    "    'N' : 114,\n",
    "    'D' : 115,\n",
    "    'K' : 128,\n",
    "    'Q' : 128,\n",
    "    'E' : 129,\n",
    "    'M' : 131,\n",
    "    'H' : 137,\n",
    "    'F' : 147,\n",
    "    'R' : 156,\n",
    "    'Y' : 163,\n",
    "    'W' : 186\n",
    "}\n",
    "\n",
    "\n",
    "def spectrum(peptid):\n",
    "    result = []\n",
    "    for window in range(1, len(peptid) + 1):\n",
    "        for left_bound in range(0, len(peptid) - window + 1):\n",
    "            sub = peptid[left_bound:left_bound + window]\n",
    "            sum = 0\n",
    "            for ch in sub:\n",
    "                sum += mass_table[ch]\n",
    "            result.append([str(sub), sum])\n",
    "    final_result = sorted(result, key=lambda x: x[1])\n",
    "    return final_result"
   ]
  },
  {
   "cell_type": "code",
   "execution_count": 3,
   "metadata": {},
   "outputs": [
    {
     "name": "stdout",
     "output_type": "stream",
     "text": [
      "['G', 57]\n",
      "['A', 71]\n",
      "['A', 71]\n",
      "['V', 99]\n",
      "['V', 99]\n",
      "['V', 99]\n",
      "['V', 99]\n",
      "['L', 113]\n",
      "['L', 113]\n",
      "['GA', 128]\n",
      "['VG', 156]\n",
      "['AV', 170]\n",
      "['AL', 184]\n",
      "['LA', 184]\n",
      "['W', 186]\n",
      "['W', 186]\n",
      "['W', 186]\n",
      "['VV', 198]\n",
      "['VV', 198]\n",
      "['VGA', 227]\n",
      "['GAL', 241]\n",
      "['ALA', 255]\n",
      "['AVV', 269]\n",
      "['LAV', 283]\n",
      "['VW', 285]\n",
      "['VVV', 297]\n",
      "['WL', 299]\n",
      "['GALA', 312]\n",
      "['VGAL', 340]\n",
      "['ALAV', 354]\n",
      "['AVVV', 368]\n",
      "['WW', 372]\n",
      "['WW', 372]\n",
      "['LAVV', 382]\n",
      "['VVW', 384]\n",
      "['VGALA', 411]\n",
      "['GALAV', 411]\n",
      "['ALAVV', 453]\n",
      "['VWW', 471]\n",
      "['LAVVV', 481]\n",
      "['VVVW', 483]\n",
      "['WWL', 485]\n",
      "['VGALAV', 510]\n",
      "['GALAVV', 510]\n",
      "['ALAVVV', 552]\n",
      "['AVVVW', 554]\n",
      "['WWW', 558]\n",
      "['VVWW', 570]\n",
      "['VGALAVV', 609]\n",
      "['GALAVVV', 609]\n",
      "['VWWW', 657]\n",
      "['LAVVVW', 667]\n",
      "['VVVWW', 669]\n",
      "['WWWL', 671]\n",
      "['VGALAVVV', 708]\n",
      "['ALAVVVW', 738]\n",
      "['AVVVWW', 740]\n",
      "['VVWWW', 756]\n",
      "['VWWWL', 770]\n",
      "['GALAVVVW', 795]\n",
      "['LAVVVWW', 853]\n",
      "['VVVWWW', 855]\n",
      "['VVWWWL', 869]\n",
      "['VGALAVVVW', 894]\n",
      "['ALAVVVWW', 924]\n",
      "['AVVVWWW', 926]\n",
      "['VVVWWWL', 968]\n",
      "['GALAVVVWW', 981]\n",
      "['LAVVVWWW', 1039]\n",
      "['AVVVWWWL', 1039]\n",
      "['VGALAVVVWW', 1080]\n",
      "['ALAVVVWWW', 1110]\n",
      "['LAVVVWWWL', 1152]\n",
      "['GALAVVVWWW', 1167]\n",
      "['ALAVVVWWWL', 1223]\n",
      "['VGALAVVVWWW', 1266]\n",
      "['GALAVVVWWWL', 1280]\n",
      "['VGALAVVVWWWL', 1379]\n"
     ]
    }
   ],
   "source": [
    "gramicidin = 'VGALAVVVWWWL'\n",
    "final_result = spectrum(gramicidin)\n",
    "for it in final_result:\n",
    "    print(it)"
   ]
  },
  {
   "cell_type": "code",
   "execution_count": 4,
   "metadata": {},
   "outputs": [],
   "source": [
    "def cyclospectrum(peptide):\n",
    "    return np.array(spectrum(peptide))[:,1].astype(int)"
   ]
  },
  {
   "cell_type": "code",
   "execution_count": 5,
   "metadata": {},
   "outputs": [],
   "source": [
    "def spectrum_for_numbers(peptid):\n",
    "    result = []\n",
    "    for window in range(1, len(peptid) + 1):\n",
    "        for left_bound in range(0, len(peptid) - window + 1):\n",
    "            sub = peptid[left_bound:left_bound + window]\n",
    "            sum_ = sum(sub)\n",
    "            result.append(sum_)\n",
    "    #result.append(sum(peptid))\n",
    "    final_result = sorted(result)\n",
    "    return final_result"
   ]
  },
  {
   "cell_type": "code",
   "execution_count": 6,
   "metadata": {},
   "outputs": [
    {
     "data": {
      "text/plain": [
       "[99,\n",
       " 114,\n",
       " 128,\n",
       " 128,\n",
       " 147,\n",
       " 163,\n",
       " 186,\n",
       " 227,\n",
       " 242,\n",
       " 261,\n",
       " 262,\n",
       " 291,\n",
       " 333,\n",
       " 389,\n",
       " 390,\n",
       " 390,\n",
       " 405,\n",
       " 447,\n",
       " 504,\n",
       " 518,\n",
       " 552,\n",
       " 575,\n",
       " 632,\n",
       " 651,\n",
       " 738,\n",
       " 779,\n",
       " 837]"
      ]
     },
     "execution_count": 6,
     "metadata": {},
     "output_type": "execute_result"
    }
   ],
   "source": [
    "peptide = 'WFNQYVK'\n",
    "s = spectrum_for_numbers([mass_table[c] for c in peptide])\n",
    "s[:-1]"
   ]
  },
  {
   "cell_type": "code",
   "execution_count": 7,
   "metadata": {},
   "outputs": [
    {
     "data": {
      "text/plain": [
       "Counter({128: 2,\n",
       "         390: 2,\n",
       "         99: 1,\n",
       "         114: 1,\n",
       "         147: 1,\n",
       "         163: 1,\n",
       "         186: 1,\n",
       "         227: 1,\n",
       "         242: 1,\n",
       "         261: 1,\n",
       "         262: 1,\n",
       "         291: 1,\n",
       "         333: 1,\n",
       "         389: 1,\n",
       "         405: 1,\n",
       "         447: 1,\n",
       "         504: 1,\n",
       "         518: 1,\n",
       "         552: 1,\n",
       "         575: 1,\n",
       "         632: 1,\n",
       "         651: 1,\n",
       "         738: 1,\n",
       "         779: 1,\n",
       "         837: 1,\n",
       "         965: 1})"
      ]
     },
     "execution_count": 7,
     "metadata": {},
     "output_type": "execute_result"
    }
   ],
   "source": [
    "c = Counter(s)\n",
    "c"
   ]
  },
  {
   "cell_type": "code",
   "execution_count": 8,
   "metadata": {},
   "outputs": [
    {
     "name": "stdout",
     "output_type": "stream",
     "text": [
      "[  57   71   71   99   99   99   99  113  113  128  156  170  184  184\n",
      "  186  186  186  198  198  227  241  255  269  283  285  297  299  312\n",
      "  340  354  368  372  372  382  384  411  411  453  471  481  483  485\n",
      "  510  510  552  554  558  570  609  609  657  667  669  671  708  738\n",
      "  740  756  770  795  853  855  869  894  924  926  968  981 1039 1039\n",
      " 1080 1110 1152 1167 1223 1266 1280 1379]\n",
      "[57, 71, 71, 99, 99, 99, 99, 113, 113, 128, 156, 170, 184, 184, 186, 186, 186, 198, 198, 227, 241, 255, 269, 283, 285, 297, 299, 312, 340, 354, 368, 372, 372, 382, 384, 411, 411, 453, 471, 481, 483, 485, 510, 510, 552, 554, 558, 570, 609, 609, 657, 667, 669, 671, 708, 738, 740, 756, 770, 795, 853, 855, 869, 894, 924, 926, 968, 981, 1039, 1039, 1080, 1110, 1152, 1167, 1223, 1266, 1280, 1379]\n"
     ]
    }
   ],
   "source": [
    "c = cyclospectrum(gramicidin)\n",
    "p = spectrum_for_numbers([mass_table[c] for c in gramicidin])\n",
    "print(c)\n",
    "print(p)"
   ]
  },
  {
   "cell_type": "code",
   "execution_count": 9,
   "metadata": {},
   "outputs": [
    {
     "data": {
      "text/plain": [
       "'57 71 71 99 99 99 99 113 113 128 156 170 184 184 186 186 186 198 198 227 241 255 269 283 285 297 299 312 340 354 368 372 372 382 384 411 411 453 471 481 483 485 510 510 552 554 558 570 609 609 657 667 669 671 708 738 740 756 770 795 853 855 869 894 924 926 968 981 1039 1039 1080 1110 1152 1167 1223 1266 1280 1379 '"
      ]
     },
     "execution_count": 9,
     "metadata": {},
     "output_type": "execute_result"
    }
   ],
   "source": [
    "seq = ''\n",
    "for key, values in final_result:\n",
    "    seq += str(values) + ' '\n",
    "seq"
   ]
  },
  {
   "cell_type": "markdown",
   "metadata": {},
   "source": [
    "Сколько субпептидов имеет линейный пептид длины n?"
   ]
  },
  {
   "cell_type": "code",
   "execution_count": 10,
   "metadata": {},
   "outputs": [
    {
     "data": {
      "text/plain": [
       "479001601"
      ]
     },
     "execution_count": 10,
     "metadata": {},
     "output_type": "execute_result"
    }
   ],
   "source": [
    "n = 12\n",
    "factorial = 1\n",
    "#factorial\n",
    "for i in range(1, n+1):\n",
    "    factorial *= i\n",
    "factorial += 1 #for empty subsequence\n",
    "factorial"
   ]
  },
  {
   "cell_type": "code",
   "execution_count": 11,
   "metadata": {},
   "outputs": [],
   "source": [
    "def expand(peptides):\n",
    "    result = []\n",
    "\n",
    "    for peptide in peptides:\n",
    "#        result.append(peptide)\n",
    "        #print(peptide)\n",
    "        for mass in list(mass_table.values()):\n",
    "            tmp = []\n",
    "            for m in peptide:\n",
    "                tmp.append(m)\n",
    "            tmp.append(mass)\n",
    "            #print(tmp)\n",
    "            result.append(tmp)\n",
    "\n",
    "    return result"
   ]
  },
  {
   "cell_type": "code",
   "execution_count": 12,
   "metadata": {},
   "outputs": [],
   "source": [
    "def mass(peptide):\n",
    "    return sum(peptide)"
   ]
  },
  {
   "cell_type": "code",
   "execution_count": 13,
   "metadata": {},
   "outputs": [],
   "source": [
    "def parent_mass(spectr):\n",
    "    return spectr[-1]"
   ]
  },
  {
   "cell_type": "code",
   "execution_count": 14,
   "metadata": {},
   "outputs": [],
   "source": [
    "def remove_duplicates(nested_list):\n",
    "    unique_list = []  # Пустой список\n",
    "    for element in nested_list:\n",
    "        if element not in unique_list:  # Проверяем каждый элемент\n",
    "            unique_list.append(element)  # Добавляем, если элемент уникален\n",
    "    return unique_list"
   ]
  },
  {
   "cell_type": "code",
   "execution_count": 40,
   "metadata": {},
   "outputs": [],
   "source": [
    "def CyclopeptideSequencing(spectr):\n",
    "    final_peptides = []\n",
    "    candidates = [final_peptides]\n",
    "    while candidates and not final_peptides:\n",
    "        candidates = expand(candidates)\n",
    "        candidates = remove_duplicates(candidates)\n",
    "        for peptide in candidates:\n",
    "            if peptide:\n",
    "                if peptide == [186, 147, 114, 128]:\n",
    "                    stop_point = 0\n",
    "                peptide_spectrum = spectrum_for_numbers(peptide)\n",
    "                if mass(peptide) == parent_mass(spectr):\n",
    "                    if peptide_spectrum == spectr and peptide not in final_peptides:\n",
    "                        final_peptides.append(peptide.copy())\n",
    "                    peptide.clear() \n",
    "                else:\n",
    "                    #проверим, согласуется ли пептид со спектром\n",
    "                    counter_peptide = Counter(peptide_spectrum)\n",
    "                    counter_spectrum = Counter(spectr)\n",
    "                    for item in counter_peptide.keys():\n",
    "                        if item not in counter_spectrum.keys() or counter_peptide[item] > counter_spectrum[item]:\n",
    "                            peptide.clear()\n",
    "                            break\n",
    "                    \n",
    "                    \n",
    "        max_len = max([len(p) for p in candidates])\n",
    "        candidates = [p for p in candidates if len(p) == max_len and p]\n",
    "        #print(candidates)\n",
    "        \n",
    "        \n",
    "    return final_peptides\n"
   ]
  },
  {
   "cell_type": "code",
   "execution_count": 32,
   "metadata": {},
   "outputs": [
    {
     "data": {
      "text/plain": [
       "[114, 128, 147, 186, 242, 261, 333, 389, 447, 575]"
      ]
     },
     "execution_count": 32,
     "metadata": {},
     "output_type": "execute_result"
    }
   ],
   "source": [
    "tmp = spectrum_for_numbers([186, 147, 114, 128])\n",
    "tmp"
   ]
  },
  {
   "cell_type": "code",
   "execution_count": 37,
   "metadata": {},
   "outputs": [
    {
     "data": {
      "text/plain": [
       "[['V', 99],\n",
       " ['N', 114],\n",
       " ['Q', 128],\n",
       " ['K', 128],\n",
       " ['F', 147],\n",
       " ['Y', 163],\n",
       " ['W', 186],\n",
       " ['VK', 227],\n",
       " ['NQ', 242],\n",
       " ['FN', 261],\n",
       " ['YV', 262],\n",
       " ['QY', 291],\n",
       " ['WF', 333],\n",
       " ['FNQ', 389],\n",
       " ['QYV', 390],\n",
       " ['YVK', 390],\n",
       " ['NQY', 405],\n",
       " ['WFN', 447],\n",
       " ['NQYV', 504],\n",
       " ['QYVK', 518],\n",
       " ['FNQY', 552],\n",
       " ['WFNQ', 575],\n",
       " ['NQYVK', 632],\n",
       " ['FNQYV', 651],\n",
       " ['WFNQY', 738],\n",
       " ['FNQYVK', 779],\n",
       " ['WFNQYV', 837],\n",
       " ['WFNQYVK', 965]]"
      ]
     },
     "execution_count": 37,
     "metadata": {},
     "output_type": "execute_result"
    }
   ],
   "source": [
    "peptide = 'WFNQYVK'\n",
    "spec = spectrum(peptide)\n",
    "spec"
   ]
  },
  {
   "cell_type": "code",
   "execution_count": 16,
   "metadata": {},
   "outputs": [
    {
     "data": {
      "text/plain": [
       "[[57],\n",
       " [71],\n",
       " [87],\n",
       " [97],\n",
       " [99],\n",
       " [101],\n",
       " [103],\n",
       " [113],\n",
       " [113],\n",
       " [114],\n",
       " [115],\n",
       " [128],\n",
       " [128],\n",
       " [129],\n",
       " [131],\n",
       " [137],\n",
       " [147],\n",
       " [156],\n",
       " [163],\n",
       " [186]]"
      ]
     },
     "execution_count": 16,
     "metadata": {},
     "output_type": "execute_result"
    }
   ],
   "source": [
    "candidates = [[]]\n",
    "candidates = expand(candidates)\n",
    "candidates"
   ]
  },
  {
   "cell_type": "code",
   "execution_count": 41,
   "metadata": {},
   "outputs": [
    {
     "data": {
      "text/plain": [
       "[[128, 99, 163, 128, 114, 147, 186], [186, 147, 114, 128, 163, 99, 128]]"
      ]
     },
     "execution_count": 41,
     "metadata": {},
     "output_type": "execute_result"
    }
   ],
   "source": [
    "peptide = 'WFNQYVK'\n",
    "result = CyclopeptideSequencing(spectrum_for_numbers([mass_table[p] for p in peptide]))\n",
    "result"
   ]
  },
  {
   "cell_type": "code",
   "execution_count": 42,
   "metadata": {},
   "outputs": [
    {
     "data": {
      "text/plain": [
       "[186, 147, 114, 128, 163, 99, 128]"
      ]
     },
     "execution_count": 42,
     "metadata": {},
     "output_type": "execute_result"
    }
   ],
   "source": [
    "mass_pept = [mass_table[p] for p in peptide]\n",
    "mass_pept"
   ]
  },
  {
   "cell_type": "code",
   "execution_count": 43,
   "metadata": {},
   "outputs": [
    {
     "data": {
      "text/plain": [
       "{57: 'G',\n",
       " 71: 'A',\n",
       " 87: 'S',\n",
       " 97: 'P',\n",
       " 99: 'V',\n",
       " 101: 'T',\n",
       " 103: 'C',\n",
       " 113: 'L',\n",
       " 114: 'N',\n",
       " 115: 'D',\n",
       " 128: 'Q',\n",
       " 129: 'E',\n",
       " 131: 'M',\n",
       " 137: 'H',\n",
       " 147: 'F',\n",
       " 156: 'R',\n",
       " 163: 'Y',\n",
       " 186: 'W'}"
      ]
     },
     "execution_count": 43,
     "metadata": {},
     "output_type": "execute_result"
    }
   ],
   "source": [
    "peptide_table = dict(zip(mass_table.values(), mass_table.keys()))\n",
    "peptide_table"
   ]
  },
  {
   "cell_type": "code",
   "execution_count": 44,
   "metadata": {},
   "outputs": [
    {
     "data": {
      "text/plain": [
       "[['Q', 'V', 'Y', 'Q', 'N', 'F', 'W'], ['W', 'F', 'N', 'Q', 'Y', 'V', 'Q']]"
      ]
     },
     "execution_count": 44,
     "metadata": {},
     "output_type": "execute_result"
    }
   ],
   "source": [
    "result_peptides = [[peptide_table[m] for m in pept] for pept in result]\n",
    "result_peptides"
   ]
  }
 ],
 "metadata": {
  "kernelspec": {
   "display_name": "Python 3",
   "language": "python",
   "name": "python3"
  },
  "language_info": {
   "codemirror_mode": {
    "name": "ipython",
    "version": 3
   },
   "file_extension": ".py",
   "mimetype": "text/x-python",
   "name": "python",
   "nbconvert_exporter": "python",
   "pygments_lexer": "ipython3",
   "version": "3.11.9"
  }
 },
 "nbformat": 4,
 "nbformat_minor": 2
}
