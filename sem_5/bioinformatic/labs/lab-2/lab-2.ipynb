{
 "cells": [
  {
   "cell_type": "markdown",
   "metadata": {},
   "source": [
    "<h1>Разминка</h1>"
   ]
  },
  {
   "cell_type": "markdown",
   "metadata": {},
   "source": [
    "Ф.Крик, 1961, мутация сдвига рамки считывания.<p>\n",
    "В 1976 году Крик был соавтором статьи «Гипотеза происхождения белкового синтеза» («A speculation on the origin of protein synthesis») совместно с Сидней Бреннер, Аароном Клугом и Джорджем Пикзеником. В статье рассмотрено предположение, что синтез белков на этапе формирования жизни был возможен и без рибосом при выполнении следующих условий: тРНК должна иметь две конфигурации и связываться с мРНК пятью водородными связями (а не тремя)"
   ]
  },
  {
   "cell_type": "markdown",
   "metadata": {},
   "source": [
    "<h3>1. Какой частью молекулы альфа-аминокислоты отличаются друг от друга?</h3>"
   ]
  },
  {
   "cell_type": "markdown",
   "metadata": {},
   "source": [
    "Радикалом"
   ]
  },
  {
   "cell_type": "markdown",
   "metadata": {},
   "source": [
    "<h3>\n",
    "2. Протеиногенных аминокислот на текущий момент известно 22, а наиболее часто встречаются лишь 20. <p>\n",
    "Назовите те самые две (21-ю и 22-ю) аминокислоты и кодирующие их кодоны.\n",
    "</h3>"
   ]
  },
  {
   "cell_type": "markdown",
   "metadata": {},
   "source": [
    "*Селеноцистеин* - UGA\n",
    "<p>\n",
    "\n",
    "*Пирролизин* - UAG"
   ]
  },
  {
   "cell_type": "markdown",
   "metadata": {},
   "source": [
    "<h3>\n",
    "3. Последовательность аминокислот грамицидина С (most likely)<p>\n",
    "Val-Gly-Ala-Leu-Ala-Val-Val-Val-Trp-Trp-Trp-Leu<p>\n",
    "Сколько различных цепей ДНК длиной 36 транскрибируется и транслируется в грамицидин С (не считая стоп кодон)?Прим. «потенциально» транскрибируется и транслируется\n",
    "</h3>"
   ]
  },
  {
   "cell_type": "markdown",
   "metadata": {},
   "source": [
    "Val - 4<p>\n",
    "Gly : 4<p>\n",
    "Ala - 4<p>\n",
    "Leu - 6<p>\n",
    "Ala - 4<p>\n",
    "Val - 4<p>\n",
    "Val - 4<p>\n",
    "Val - 4<p>\n",
    "Trp - 1<p>\n",
    "Trp - 1<p>\n",
    "Trp - 1<p>\n",
    "Leu - 6<p>\n",
    "\n",
    "\n"
   ]
  },
  {
   "cell_type": "code",
   "execution_count": 1,
   "metadata": {},
   "outputs": [
    {
     "data": {
      "text/plain": [
       "589824"
      ]
     },
     "execution_count": 1,
     "metadata": {},
     "output_type": "execute_result"
    }
   ],
   "source": [
    "4 * 4* 4 * 6 * 4 * 4* 4 * 4 * 1 * 1* 1* 6"
   ]
  },
  {
   "cell_type": "markdown",
   "metadata": {},
   "source": [
    "<h3>\n",
    "4. Грамицидин С – циклический пептид\n",
    "Тогда сколько различных аминокислотных последовательностейможет его кодировать?\n",
    "</h3>"
   ]
  },
  {
   "cell_type": "markdown",
   "metadata": {},
   "source": [
    "12"
   ]
  },
  {
   "cell_type": "markdown",
   "metadata": {},
   "source": [
    "<h3>\n",
    "5. Постройте теоретический спектр для Грамицидина С\n",
    "<p>Аминокислотная последовательность: <p>Val-Gly-Ala-Leu-Ala-Val-Val-Val-Trp-Trp-Trp-Leu\n",
    "</h3>"
   ]
  },
  {
   "cell_type": "code",
   "execution_count": 4,
   "metadata": {},
   "outputs": [
    {
     "name": "stdout",
     "output_type": "stream",
     "text": [
      "1379\n"
     ]
    }
   ],
   "source": [
    "mass_table = {\n",
    "    'G' : 57,\n",
    "    'A' : 71,\n",
    "    'S' : 87,\n",
    "    'P' : 97,\n",
    "    'V' : 99,\n",
    "    'T' : 101,\n",
    "    'C' : 103,\n",
    "    'I' : 113,\n",
    "    'L' : 113,\n",
    "    'N' : 114,\n",
    "    'D' : 115,\n",
    "    'K' : 128,\n",
    "    'Q' : 128,\n",
    "    'E' : 129,\n",
    "    'M' : 131,\n",
    "    'H' : 137,\n",
    "    'F' : 147,\n",
    "    'R' : 156,\n",
    "    'Y' : 163,\n",
    "    'W' : 186\n",
    "}\n",
    "\n",
    "gramicidin = 'VGALAVVVWWWL'"
   ]
  },
  {
   "cell_type": "code",
   "execution_count": 28,
   "metadata": {},
   "outputs": [],
   "source": [
    "result = []\n",
    "for window in range(1, len(gramicidin) + 1):\n",
    "    for left_bound in range(0, len(gramicidin) - window + 1):\n",
    "        sub = gramicidin[left_bound:left_bound + window]\n",
    "        sum = 0\n",
    "        for ch in sub:\n",
    "          sum += mass_table[ch]\n",
    "        result.append([str(sub), sum])"
   ]
  },
  {
   "cell_type": "code",
   "execution_count": 29,
   "metadata": {},
   "outputs": [
    {
     "name": "stdout",
     "output_type": "stream",
     "text": [
      "['G', 57]\n",
      "['A', 71]\n",
      "['A', 71]\n",
      "['V', 99]\n",
      "['V', 99]\n",
      "['V', 99]\n",
      "['V', 99]\n",
      "['L', 113]\n",
      "['L', 113]\n",
      "['GA', 128]\n",
      "['VG', 156]\n",
      "['AV', 170]\n",
      "['AL', 184]\n",
      "['LA', 184]\n",
      "['W', 186]\n",
      "['W', 186]\n",
      "['W', 186]\n",
      "['VV', 198]\n",
      "['VV', 198]\n",
      "['VGA', 227]\n",
      "['GAL', 241]\n",
      "['ALA', 255]\n",
      "['AVV', 269]\n",
      "['LAV', 283]\n",
      "['VW', 285]\n",
      "['VVV', 297]\n",
      "['WL', 299]\n",
      "['GALA', 312]\n",
      "['VGAL', 340]\n",
      "['ALAV', 354]\n",
      "['AVVV', 368]\n",
      "['WW', 372]\n",
      "['WW', 372]\n",
      "['LAVV', 382]\n",
      "['VVW', 384]\n",
      "['VGALA', 411]\n",
      "['GALAV', 411]\n",
      "['ALAVV', 453]\n",
      "['VWW', 471]\n",
      "['LAVVV', 481]\n",
      "['VVVW', 483]\n",
      "['WWL', 485]\n",
      "['VGALAV', 510]\n",
      "['GALAVV', 510]\n",
      "['ALAVVV', 552]\n",
      "['AVVVW', 554]\n",
      "['WWW', 558]\n",
      "['VVWW', 570]\n",
      "['VGALAVV', 609]\n",
      "['GALAVVV', 609]\n",
      "['VWWW', 657]\n",
      "['LAVVVW', 667]\n",
      "['VVVWW', 669]\n",
      "['WWWL', 671]\n",
      "['VGALAVVV', 708]\n",
      "['ALAVVVW', 738]\n",
      "['AVVVWW', 740]\n",
      "['VVWWW', 756]\n",
      "['VWWWL', 770]\n",
      "['GALAVVVW', 795]\n",
      "['LAVVVWW', 853]\n",
      "['VVVWWW', 855]\n",
      "['VVWWWL', 869]\n",
      "['VGALAVVVW', 894]\n",
      "['ALAVVVWW', 924]\n",
      "['AVVVWWW', 926]\n",
      "['VVVWWWL', 968]\n",
      "['GALAVVVWW', 981]\n",
      "['LAVVVWWW', 1039]\n",
      "['AVVVWWWL', 1039]\n",
      "['VGALAVVVWW', 1080]\n",
      "['ALAVVVWWW', 1110]\n",
      "['LAVVVWWWL', 1152]\n",
      "['GALAVVVWWW', 1167]\n",
      "['ALAVVVWWWL', 1223]\n",
      "['VGALAVVVWWW', 1266]\n",
      "['GALAVVVWWWL', 1280]\n",
      "['VGALAVVVWWWL', 1379]\n"
     ]
    }
   ],
   "source": [
    "final_result = sorted(result, key=lambda x: x[1])\n",
    "for it in final_result:\n",
    "    print(it)"
   ]
  }
 ],
 "metadata": {
  "kernelspec": {
   "display_name": "Python 3",
   "language": "python",
   "name": "python3"
  },
  "language_info": {
   "codemirror_mode": {
    "name": "ipython",
    "version": 3
   },
   "file_extension": ".py",
   "mimetype": "text/x-python",
   "name": "python",
   "nbconvert_exporter": "python",
   "pygments_lexer": "ipython3",
   "version": "3.11.9"
  }
 },
 "nbformat": 4,
 "nbformat_minor": 2
}
