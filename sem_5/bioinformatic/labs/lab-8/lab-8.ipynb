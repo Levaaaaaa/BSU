{
 "cells": [
  {
   "cell_type": "markdown",
   "metadata": {},
   "source": [
    "<h1>Задание 1</h1>\n",
    "<h2>Парное выравнивание последовательности</h2>"
   ]
  },
  {
   "cell_type": "markdown",
   "metadata": {},
   "source": [
    "Попарное выравнивание последовательностей сравнивает только две последовательности одновременно и обеспечивает наилучшие возможные выравнивания последовательностей. Различают глобальное и локальное выравнивание. Глобальное выравнивание предполагает, что последовательности гомологичны по всей длине. В глобальное выравнивание включаются обе входные последовательности целиком. Локальное выравнивание применяется, если последовательности содержат как родственные (гомологичные), так и неродственные участки. Результатом локального выравнивания является выбор участка в каждой из последовательностей и выравнивание между этими участками."
   ]
  },
  {
   "cell_type": "markdown",
   "metadata": {},
   "source": [
    "Biopython предоставляет специальный модуль Bio.pairwise2 для попарного выравнивания последлвательностей с использованием метода динамического программирования."
   ]
  },
  {
   "cell_type": "code",
   "execution_count": 1,
   "metadata": {},
   "outputs": [
    {
     "name": "stderr",
     "output_type": "stream",
     "text": [
      "c:\\Users\\User\\AppData\\Local\\Programs\\Python\\Python311\\Lib\\site-packages\\Bio\\pairwise2.py:278: BiopythonDeprecationWarning: Bio.pairwise2 has been deprecated, and we intend to remove it in a future release of Biopython. As an alternative, please consider using Bio.Align.PairwiseAligner as a replacement, and contact the Biopython developers if you still need the Bio.pairwise2 module.\n",
      "  warnings.warn(\n"
     ]
    }
   ],
   "source": [
    "from Bio import pairwise2\n",
    "from Bio.Seq import Seq \n",
    "from Bio.Align import substitution_matrices\n"
   ]
  },
  {
   "cell_type": "code",
   "execution_count": 2,
   "metadata": {},
   "outputs": [],
   "source": [
    "seq1 = Seq(\"ACCGGT\") \n",
    "seq2 = Seq(\"ACGT\")\n",
    "alignments = pairwise2.align.globalxx(seq1, seq2)"
   ]
  },
  {
   "cell_type": "markdown",
   "metadata": {},
   "source": [
    "Здесь метод globalxx находит все наилучшие возможные выравнивания в заданных последовательностях."
   ]
  },
  {
   "cell_type": "code",
   "execution_count": 3,
   "metadata": {},
   "outputs": [
    {
     "data": {
      "text/plain": [
       "[Alignment(seqA='ACCGGT', seqB='A-C-GT', score=4.0, start=0, end=6),\n",
       " Alignment(seqA='ACCGGT', seqB='AC--GT', score=4.0, start=0, end=6),\n",
       " Alignment(seqA='ACCGGT', seqB='A-CG-T', score=4.0, start=0, end=6),\n",
       " Alignment(seqA='ACCGGT', seqB='AC-G-T', score=4.0, start=0, end=6)]"
      ]
     },
     "execution_count": 3,
     "metadata": {},
     "output_type": "execute_result"
    }
   ],
   "source": [
    "alignments"
   ]
  },
  {
   "cell_type": "markdown",
   "metadata": {},
   "source": [
    "Здесь тип выравнивания последовательности относится к типу выравнивания, который может быть глобальным или локальным. \n",
    "- Глобальный тип находит выравнивание последовательности, принимая во внимание всю последовательность. \n",
    "- Локальный тип находит выравнивание последовательностей, просматривая также подмножество заданных последовательностей."
   ]
  },
  {
   "cell_type": "markdown",
   "metadata": {},
   "source": [
    "Х относится к совпадению баллов. Возможные значения: \n",
    "- x (точное совпадение), \n",
    "- m (оценка, основанная на одинаковых символах), \n",
    "- d (пользовательский словарь с символом и счетом совпадения) \n",
    "- c (определенная пользователем функция для предоставления собственного алгоритма оценки)."
   ]
  },
  {
   "cell_type": "markdown",
   "metadata": {},
   "source": [
    "Y относится к штрафу за разрыв. Возможные значения: \n",
    "- x (без штрафных санкций), \n",
    "- s (одинаковые штрафы для обеих последовательностей), \n",
    "- d (разные штрафы для каждой последовательности) \n",
    "- c (пользовательская функция для предоставления пользовательских штрафов за пропуск)"
   ]
  },
  {
   "cell_type": "markdown",
   "metadata": {},
   "source": [
    "Таким образом, localds также является допустимым методом, который находит выравнивание последовательности, используя технику локального выравнивания, пользовательский словарь для совпадений и пользовательский штраф за пробел для обеих последовательностей."
   ]
  },
  {
   "cell_type": "code",
   "execution_count": 4,
   "metadata": {},
   "outputs": [],
   "source": [
    "blosum62 = substitution_matrices.load(\"BLOSUM62\")\n",
    "test_alignments = pairwise2.align.localds(seq1, seq2, blosum62, -10, -1)"
   ]
  },
  {
   "cell_type": "markdown",
   "metadata": {},
   "source": [
    "Здесь blosum62 относится к словарю, доступному в модуле pairwise2, для обеспечения соответствия. -10 относится к штрафу за открытие пропуска, а -1 относится к штрафу за расширение пропуска. "
   ]
  },
  {
   "cell_type": "code",
   "execution_count": 5,
   "metadata": {},
   "outputs": [
    {
     "data": {
      "text/plain": [
       "[Alignment(seqA='ACCGGT', seqB='-ACGT-', score=15.0, start=2, end=4)]"
      ]
     },
     "execution_count": 5,
     "metadata": {},
     "output_type": "execute_result"
    }
   ],
   "source": [
    "test_alignments"
   ]
  },
  {
   "cell_type": "code",
   "execution_count": 6,
   "metadata": {},
   "outputs": [
    {
     "name": "stdout",
     "output_type": "stream",
     "text": [
      "Alignment(seqA='ACCGGT', seqB='A-C-GT', score=4.0, start=0, end=6)\n",
      "Alignment(seqA='ACCGGT', seqB='AC--GT', score=4.0, start=0, end=6)\n",
      "Alignment(seqA='ACCGGT', seqB='A-CG-T', score=4.0, start=0, end=6)\n",
      "Alignment(seqA='ACCGGT', seqB='AC-G-T', score=4.0, start=0, end=6)\n"
     ]
    }
   ],
   "source": [
    "for alignment in alignments: \n",
    "    print(alignment) "
   ]
  },
  {
   "cell_type": "markdown",
   "metadata": {},
   "source": [
    "Модуль Bio.pairwise2 предоставляет метод форматирования format_alignment для лучшей визуализации результата"
   ]
  },
  {
   "cell_type": "code",
   "execution_count": 7,
   "metadata": {},
   "outputs": [],
   "source": [
    "from Bio.pairwise2 import format_alignment "
   ]
  },
  {
   "cell_type": "code",
   "execution_count": 8,
   "metadata": {},
   "outputs": [
    {
     "name": "stdout",
     "output_type": "stream",
     "text": [
      "ACCGGT\n",
      "| | ||\n",
      "A-C-GT\n",
      "  Score=4\n",
      "\n",
      "ACCGGT\n",
      "||  ||\n",
      "AC--GT\n",
      "  Score=4\n",
      "\n",
      "ACCGGT\n",
      "| || |\n",
      "A-CG-T\n",
      "  Score=4\n",
      "\n",
      "ACCGGT\n",
      "|| | |\n",
      "AC-G-T\n",
      "  Score=4\n",
      "\n"
     ]
    }
   ],
   "source": [
    "alignments = pairwise2.align.globalxx(seq1, seq2) \n",
    "\n",
    "for alignment in alignments: \n",
    "    print(format_alignment(*alignment)) "
   ]
  },
  {
   "cell_type": "markdown",
   "metadata": {},
   "source": [
    "Biopython также предоставляет другой модуль для выравнивания последовательностей, Align. Этот модуль предоставляет другой набор API для простой установки параметров, таких как алгоритм, режим, оценка совпадения, штрафы за пропуски"
   ]
  },
  {
   "cell_type": "code",
   "execution_count": 9,
   "metadata": {},
   "outputs": [],
   "source": [
    "from Bio import Align"
   ]
  },
  {
   "cell_type": "code",
   "execution_count": 10,
   "metadata": {},
   "outputs": [
    {
     "name": "stdout",
     "output_type": "stream",
     "text": [
      "Pairwise sequence aligner with parameters\n",
      "  wildcard: None\n",
      "  match_score: 1.000000\n",
      "  mismatch_score: 0.000000\n",
      "  target_internal_open_gap_score: 0.000000\n",
      "  target_internal_extend_gap_score: 0.000000\n",
      "  target_left_open_gap_score: 0.000000\n",
      "  target_left_extend_gap_score: 0.000000\n",
      "  target_right_open_gap_score: 0.000000\n",
      "  target_right_extend_gap_score: 0.000000\n",
      "  query_internal_open_gap_score: 0.000000\n",
      "  query_internal_extend_gap_score: 0.000000\n",
      "  query_left_open_gap_score: 0.000000\n",
      "  query_left_extend_gap_score: 0.000000\n",
      "  query_right_open_gap_score: 0.000000\n",
      "  query_right_extend_gap_score: 0.000000\n",
      "  mode: global\n",
      "\n"
     ]
    }
   ],
   "source": [
    "aligner = Align.PairwiseAligner()\n",
    "\n",
    "print(aligner)"
   ]
  },
  {
   "cell_type": "markdown",
   "metadata": {},
   "source": [
    "<h1>Задание 2</h1>\n",
    "<h2>Поддержка инструментов выравнивания последовательностей</h2>"
   ]
  },
  {
   "cell_type": "code",
   "execution_count": 11,
   "metadata": {},
   "outputs": [
    {
     "name": "stderr",
     "output_type": "stream",
     "text": [
      "c:\\Users\\User\\AppData\\Local\\Programs\\Python\\Python311\\Lib\\site-packages\\Bio\\Application\\__init__.py:39: BiopythonDeprecationWarning: The Bio.Application modules and modules relying on it have been deprecated.\n",
      "\n",
      "Due to the on going maintenance burden of keeping command line application\n",
      "wrappers up to date, we have decided to deprecate and eventually remove these\n",
      "modules.\n",
      "\n",
      "We instead now recommend building your command line and invoking it directly\n",
      "with the subprocess module.\n",
      "  warnings.warn(\n"
     ]
    }
   ],
   "source": [
    "from Bio.Align.Applications import ClustalwCommandline"
   ]
  },
  {
   "cell_type": "code",
   "execution_count": 12,
   "metadata": {},
   "outputs": [
    {
     "name": "stdout",
     "output_type": "stream",
     "text": [
      "clustalw2 -infile=samples/opuntia.fasta\n"
     ]
    }
   ],
   "source": [
    "cmd = ClustalwCommandline(\"clustalw2\",\n",
    "infile=\"samples/opuntia.fasta\")\n",
    "print(cmd)"
   ]
  },
  {
   "cell_type": "code",
   "execution_count": 13,
   "metadata": {},
   "outputs": [],
   "source": [
    "stdout, stderr = cmd()"
   ]
  },
  {
   "cell_type": "code",
   "execution_count": 14,
   "metadata": {},
   "outputs": [
    {
     "name": "stdout",
     "output_type": "stream",
     "text": [
      "CLUSTAL 2.1 multiple sequence alignment\n",
      "\n",
      "\n",
      "gi|6273285|gb|AF191659.1|AF191      TATACATTAAAGAAGGGGGATGCGGATAAATGGAAAGGCGAAAGAAAGAA\n",
      "gi|6273284|gb|AF191658.1|AF191      TATACATTAAAGAAGGGGGATGCGGATAAATGGAAAGGCGAAAGAAAGAA\n",
      "gi|6273287|gb|AF191661.1|AF191      TATACATTAAAGAAGGGGGATGCGGATAAATGGAAAGGCGAAAGAAAGAA\n",
      "gi|6273286|gb|AF191660.1|AF191      TATACATAAAAGAAGGGGGATGCGGATAAATGGAAAGGCGAAAGAAAGAA\n",
      "gi|6273290|gb|AF191664.1|AF191      TATACATTAAAGGAGGGGGATGCGGATAAATGGAAAGGCGAAAGAAAGAA\n",
      "gi|6273289|gb|AF191663.1|AF191      TATACATTAAAGGAGGGGGATGCGGATAAATGGAAAGGCGAAAGAAAGAA\n",
      "gi|6273291|gb|AF191665.1|AF191      TATACATTAAAGGAGGGGGATGCGGATAAATGGAAAGGCGAAAGAAAGAA\n",
      "                                    ******* **** *************************************\n",
      "\n",
      "gi|6273285|gb|AF191659.1|AF191      AAAAATGAATCTAAATGATATACGATTCCACTATGTAAGGTCTTTGAATC\n",
      "gi|6273284|gb|AF191658.1|AF191      AAAAATGAATCTAAATGATATACGATTCCACTATGTAAGGTCTTTGAATC\n",
      "gi|6273287|gb|AF191661.1|AF191      AAAAATGAATCTAAATGATATACGATTCCACTATGTAAGGTCTTTGAATC\n",
      "gi|6273286|gb|AF191660.1|AF191      AAAAATGAATCTAAATGATATACGATTCCACTATGTAAGGTCTTTGAATC\n",
      "gi|6273290|gb|AF191664.1|AF191      AAAAATGAATCTAAATGATATAGGATTCCACTATGTAAGGTCTTTGAATC\n",
      "gi|6273289|gb|AF191663.1|AF191      AAAAATGAATCTAAATGATATAGGATTCCACTATGTAAGGTCTTTGAATC\n",
      "gi|6273291|gb|AF191665.1|AF191      AAAAATGAATCTAAATGATATAGGATTCCACTATGTAAGGTCTTTGAATC\n",
      "                                    ********************** ***************************\n",
      "\n",
      "gi|6273285|gb|AF191659.1|AF191      ATATCATAAAAGACAATGTAATAAAGCATGAATACAGATTCACACATAAT\n",
      "gi|6273284|gb|AF191658.1|AF191      ATATCATAAAAGACAATGTAATAAAGCATGAATACAGATTCACACATAAT\n",
      "gi|6273287|gb|AF191661.1|AF191      ATATCATAAAAGACAATGTAATAAAGCATGAATACAGATTCACACATAAT\n",
      "gi|6273286|gb|AF191660.1|AF191      ATATCATAAAAGACAATGTAATAAAGCATGAATACAGATTCACACATAAT\n",
      "gi|6273290|gb|AF191664.1|AF191      ATATCATAAAAGACAATGTAATAAAGCATGAATACAGATTCACACATAAT\n",
      "gi|6273289|gb|AF191663.1|AF191      ATATCATAAAAGACAATGTAATAAAGCATGAATACAGATTCACACATAAT\n",
      "gi|6273291|gb|AF191665.1|AF191      ATATCATAAAAGACAATGTAATAAAGCATGAATACAGATTCACACATAAT\n",
      "                                    **************************************************\n",
      "\n",
      "gi|6273285|gb|AF191659.1|AF191      TATCTGATATGAATCTATTCATAGAAAAAAGAAAAAAGTAAGAGCCTCCG\n",
      "gi|6273284|gb|AF191658.1|AF191      TATCTGATATGAATCTATTCATAGAAAAAAGAAAAAAGTAAGAGCCTCCG\n",
      "gi|6273287|gb|AF191661.1|AF191      TATCTGATATGAATCTATTCATAGAAAAAAGAAAAAAGTAAGAGCCTCCG\n",
      "gi|6273286|gb|AF191660.1|AF191      TATCTGATATGAATCTATTCATAGAAAAAAGAAAAAAGTAAGAGCCTCCG\n",
      "gi|6273290|gb|AF191664.1|AF191      TATCTGATATGAATCTATTCATAGAAAAAAGAAAAAAGTAAGAGCCTCCG\n",
      "gi|6273289|gb|AF191663.1|AF191      TATCTGATATGAATCTATTCATAGAAAAAAGAAAAAAGTAAGAGCCTCCG\n",
      "gi|6273291|gb|AF191665.1|AF191      TATCTGATATGAATCTATTCATAGAAAAAAGAAAAAAGTAAGAGCCTCCG\n",
      "                                    **************************************************\n",
      "\n",
      "gi|6273285|gb|AF191659.1|AF191      GCCAATAAAGACTAAGAGGGTTGGCTCAAGAACAAAGTTCATTAAGAGCT\n",
      "gi|6273284|gb|AF191658.1|AF191      GCCAATAAAGACTAAGAGGGTTGGCTCAAGAACAAAGTTCATTAAGAGCT\n",
      "gi|6273287|gb|AF191661.1|AF191      GCCAATAAAGACTAAGAGGGTTGGCTCAAGAACAAAGTTCATTAAGAGCT\n",
      "gi|6273286|gb|AF191660.1|AF191      GCCAATAAAGACTAAGAGGGTTGGCTCAAGAACAAAGTTCATTAAGAGCT\n",
      "gi|6273290|gb|AF191664.1|AF191      GCCAATAAAGACTAAGAGGGTTGGCTCAAGAACAAAGTTCATTAAGAGCT\n",
      "gi|6273289|gb|AF191663.1|AF191      GCCAATAAAGACTAAGAGGGTTGGCTCAAGAACAAAGTTCATTAAGAGCT\n",
      "gi|6273291|gb|AF191665.1|AF191      GCCAATAAAGACTAAGAGGGTTGGCTCAAGAACAAAGTTCATTAAGAGCT\n",
      "                                    **************************************************\n",
      "\n",
      "gi|6273285|gb|AF191659.1|AF191      CCATTGTAGAATTCAGACCTAATCATTAATCAAGAAGCGATGGGAACGAT\n",
      "gi|6273284|gb|AF191658.1|AF191      CCATTGTAGAATTCAGACCTAATCATTAATCAAGAAGCGATGGGAACGAT\n",
      "gi|6273287|gb|AF191661.1|AF191      CCATTGTAGAATTCAGACCTAATCATTAATCAAGAAGCGATGGGAACGAT\n",
      "gi|6273286|gb|AF191660.1|AF191      CCATTGTAGAATTCAGACCTAATCATTAATCAAGAAGCGATGGGAACGAT\n",
      "gi|6273290|gb|AF191664.1|AF191      CCATTGTAGAATTCAGACCTAATCATTAATCAAGAAGCGATGGGAACGAT\n",
      "gi|6273289|gb|AF191663.1|AF191      CCATTGTAGAATTCAGACCTAATCATTAATCAAGAAGCGATGGGAACGAT\n",
      "gi|6273291|gb|AF191665.1|AF191      CCATTGTAGAATTCAGACCTAATCATTAATCAAGAAGCGATGGGAACGAT\n",
      "                                    **************************************************\n",
      "\n",
      "gi|6273285|gb|AF191659.1|AF191      GTAATCCATGAATACAGAAGATTCAATTGAAAAAGATCCTAA-TGATCAT\n",
      "gi|6273284|gb|AF191658.1|AF191      GTAATCCATGAATACAGAAGATTCAATTGAAAAAGATCCTAA-TGATCAT\n",
      "gi|6273287|gb|AF191661.1|AF191      GTAATCCATGAATACAGAAGATTCAATTGAAAAAGATCCTAT-GATCCAT\n",
      "gi|6273286|gb|AF191660.1|AF191      GTAATCCATGAATACAGAAGATTCAATTGAAAAAGATCCTAA-TGATCAT\n",
      "gi|6273290|gb|AF191664.1|AF191      GTAATCCATGAATACAGAAGATTCAATTGAAAAAGATCCTAATGNTNCAT\n",
      "gi|6273289|gb|AF191663.1|AF191      GTAATCCATGAATACAGAAGATTCAATTGAAAAAGATCCTAATGATTCAT\n",
      "gi|6273291|gb|AF191665.1|AF191      GTAATCCATGAATACAGAAGATTCAATTGAAAAAGATCCTA--TGNTCAT\n",
      "                                    *****************************************      ***\n",
      "\n",
      "gi|6273285|gb|AF191659.1|AF191      TGGGAAGGATGGCGGAACGAACCAGAGACCAATTCATCTATTCTGAAAAG\n",
      "gi|6273284|gb|AF191658.1|AF191      TGGGAAGGATGGCGGAACGAACCAGAGACCAATTCATCTATTCTGAAAAG\n",
      "gi|6273287|gb|AF191661.1|AF191      TGGGAAGGATGGCGGAACGAACCAGAGACCAATTCATCTATTCTGAAAAG\n",
      "gi|6273286|gb|AF191660.1|AF191      TGG-AAGGATGGCGGAACGAACCAGAGACCAATTCATCTATTCTGAAAAG\n",
      "gi|6273290|gb|AF191664.1|AF191      TGGGAAGGATGGCGGAACGAACCAGAGACCAATTCATCTATTCTGAAAAG\n",
      "gi|6273289|gb|AF191663.1|AF191      TGGGAAGGATGGCGGAACGAACCAGAGACCAATTCATCTATTCTGAAAAG\n",
      "gi|6273291|gb|AF191665.1|AF191      TGG-AAGGATGGCGGAACGAACCAGAGACCAATTCATCTATTCTGAAAAG\n",
      "                                    *** **********************************************\n",
      "\n",
      "gi|6273285|gb|AF191659.1|AF191      TGATAAACTAATCCTATAAAACTAAAATAGATATTGAAAGAGTAAATATT\n",
      "gi|6273284|gb|AF191658.1|AF191      TGATAAACTAATCCTATAAAACTAAAATAGATATTGAAAGAGTAAATATT\n",
      "gi|6273287|gb|AF191661.1|AF191      TGATAAACTAATCCTATAAAACTAAAATAGATATTGAAAGAGTAAATATT\n",
      "gi|6273286|gb|AF191660.1|AF191      TGATAAACTAATCCTATAAAACTAAAATAGATATTGAAAGAGTAAATATT\n",
      "gi|6273290|gb|AF191664.1|AF191      TGATAAACTAATCCTATAAAACTAAAATAGATATTGAAAGAGTAAATATT\n",
      "gi|6273289|gb|AF191663.1|AF191      TGATAAACTAATCCTATAAAACTAAAATAGATATTGAAAGAGTAAATATT\n",
      "gi|6273291|gb|AF191665.1|AF191      TGATAAACTAATCCTATAAAACTAAAATAGATATTGAAAGAGTAAATATT\n",
      "                                    **************************************************\n",
      "\n",
      "gi|6273285|gb|AF191659.1|AF191      CGCCCGCGAAAATTCCTTTTTTATT-AAATTGCTCATATTTTATTTTAGC\n",
      "gi|6273284|gb|AF191658.1|AF191      CGCCCGCGAAAATTCCTTTTTTATT-AAATTGCTCATATTTTATTTTAGC\n",
      "gi|6273287|gb|AF191661.1|AF191      CGCCCGCGAAAATTCCTTTTTTTTTTAAATTGCTCATATTTTATTTTAGC\n",
      "gi|6273286|gb|AF191660.1|AF191      CGCCCGCGAAAATTCCTTTTTTATT-AAATTGCTCATATTTTATTTTAGC\n",
      "gi|6273290|gb|AF191664.1|AF191      CGCCCGCGAAAATTCCTTTTTTATT-AAATTGCTCATATTTTCTTTTAGC\n",
      "gi|6273289|gb|AF191663.1|AF191      CGCCCGCGAAAATTCCTTTTTTATT-AAATTGCTCATATTTTCTTTTAGC\n",
      "gi|6273291|gb|AF191665.1|AF191      CGCCCGCGAAAATTCCTTTTTTATT-AAATTGCTCATATTTTCTTTTAGC\n",
      "                                    ********************** ** **************** *******\n",
      "\n",
      "gi|6273285|gb|AF191659.1|AF191      AATGCAATCTAATAAAATATATCTATACAAAAAAATATAGACAAACTATA\n",
      "gi|6273284|gb|AF191658.1|AF191      AATGCAATCTAATAAAATATATCTATACAAAAAAATATAGACAAACTATA\n",
      "gi|6273287|gb|AF191661.1|AF191      AATGCAATCTAATAAAATATATCTATACAAAAAAATAAAGACAAACTATA\n",
      "gi|6273286|gb|AF191660.1|AF191      AATGCAATCTAATAAAATATATCTATACAAAAAAATATAGACAAACTATA\n",
      "gi|6273290|gb|AF191664.1|AF191      AATGCAATCTAATAAAATATATCTATACAAAAAAACATAGACAAACTATA\n",
      "gi|6273289|gb|AF191663.1|AF191      AATGCAATCTAATAAAATATATCTATACAAAAAAACATAGACAAACTATA\n",
      "gi|6273291|gb|AF191665.1|AF191      AATGCAATCTAATAAAATATATCTATACAAAAAAACATAGACAAACTATA\n",
      "                                    *********************************** * ************\n",
      "\n",
      "gi|6273285|gb|AF191659.1|AF191      TATATA----------ATATATTTCAAATTTCCTTATATACCCAAATATA\n",
      "gi|6273284|gb|AF191658.1|AF191      TATATATA--------ATATATTTCAAATTTCCTTATATACCCAAATATA\n",
      "gi|6273287|gb|AF191661.1|AF191      TATATA----------ATATATTTCAAATTTCCTTATATATCCAAATATA\n",
      "gi|6273286|gb|AF191660.1|AF191      TATATA----------ATATATTTATAATTTCCTTATATATCCAAATATA\n",
      "gi|6273290|gb|AF191664.1|AF191      TATATATATA------ATATATTTCAAATTCCCTTATATATCCAAATATA\n",
      "gi|6273289|gb|AF191663.1|AF191      TATATATATA------ATATATTTCAAATTCCCTTATATATCCAAATATA\n",
      "gi|6273291|gb|AF191665.1|AF191      TATATATATATATATAATATATTTCAAATTCCCTTATATATCCAAATATA\n",
      "                                    ******          ********  **** ********* *********\n",
      "\n",
      "gi|6273285|gb|AF191659.1|AF191      AAAATATCTAATAAATTAGATGAATATCAAAGAATCCATTGATTTAGTGT\n",
      "gi|6273284|gb|AF191658.1|AF191      AAAATATCTAATAAATTAGATGAATATCAAAGAATCTATTGATTTAGTGT\n",
      "gi|6273287|gb|AF191661.1|AF191      AAAATATCTAATAAATTAGATGAATATCAAAGAATCTATTGATTTAGTGT\n",
      "gi|6273286|gb|AF191660.1|AF191      AAAATATCTAATAAATTAGATGAATATCAAAGAATCTATTGATTTAGTGT\n",
      "gi|6273290|gb|AF191664.1|AF191      AAAATATCTAATAAATTAGATGAATATCAAAGAATCTATTGATTTAGTGT\n",
      "gi|6273289|gb|AF191663.1|AF191      AAAATATCTAATAAATTAGATGAATATCAAAGAATCTATTGATTTAGTAT\n",
      "gi|6273291|gb|AF191665.1|AF191      AAAATATCTAATAAATTAGATGAATATCAAAGAATCTATTGATTTAGTGT\n",
      "                                    ************************************ *********** *\n",
      "\n",
      "gi|6273285|gb|AF191659.1|AF191      ATTATTAAATGTATATCTTAATTCAATATTATTATTCTATTCATTTTTAT\n",
      "gi|6273284|gb|AF191658.1|AF191      ATTATTAAATGTATATCTTAATTCAATATTATTATTCTATTCATTTTTAT\n",
      "gi|6273287|gb|AF191661.1|AF191      ATTATTAAATGTATATCTTAATTCAATATTATTATTCTATTCATTTTTAT\n",
      "gi|6273286|gb|AF191660.1|AF191      ATTATTAAATGTATATCTTAATTCAATATTATTATTCTATTCATTTTTAT\n",
      "gi|6273290|gb|AF191664.1|AF191      ATTATTAAATGTATATATTAATTCAATATTATTATTCTATTCATTTTTAT\n",
      "gi|6273289|gb|AF191663.1|AF191      ATTATTAAATGTATATATTAATTCAATATTATTATTCTATTCATTTTTAT\n",
      "gi|6273291|gb|AF191665.1|AF191      ATTATTAAATGTATATATTAATTCAATATTATTATTCTATTCATTTTTAT\n",
      "                                    **************** *********************************\n",
      "\n",
      "gi|6273285|gb|AF191659.1|AF191      TCATTTTCAAATTTATAATATATTAATCTATATATTAATTTATAATTCTA\n",
      "gi|6273284|gb|AF191658.1|AF191      TCATTTTCAAATTTATAATATATTAATCTATATATTAATTTATAATTCTA\n",
      "gi|6273287|gb|AF191661.1|AF191      TCATTTTCAATTTTATAATATATTAATCTATATATTAATTTATAATTCTA\n",
      "gi|6273286|gb|AF191660.1|AF191      TCATTTTCAAATTTATAATATATTAATCTATATATTAATTTATAATTCTA\n",
      "gi|6273290|gb|AF191664.1|AF191      TCATTTTCAAATTTATAATATATTAATCTATATATTAATTTAGAATTCTA\n",
      "gi|6273289|gb|AF191663.1|AF191      TCATTTTCAAATTTATAATATATTAATCTATATATTAATTTAGAATTCTA\n",
      "gi|6273291|gb|AF191665.1|AF191      TCATTTTCAAATTTATAATATATTAATCTATATATTAATTTAGAATTCTA\n",
      "                                    ********** ******************************* *******\n",
      "\n",
      "gi|6273285|gb|AF191659.1|AF191      TTCTAATTCGAATTCAATTTTTAAATATTCATATTCAATTAAAATTGAAA\n",
      "gi|6273284|gb|AF191658.1|AF191      TTCTAATTCGAATTCAATTTTTAAATATTCATATTCAATTAAAATTGAAA\n",
      "gi|6273287|gb|AF191661.1|AF191      TTCTAATTCGAATTCAATTTTTAAATATTCATATTCAATTAAAATTGAAA\n",
      "gi|6273286|gb|AF191660.1|AF191      TTCTAATTCGAATTCAATTTTTAAATATTCATATTCAATTAAAATTGAAA\n",
      "gi|6273290|gb|AF191664.1|AF191      TTCTAATTCGAATTCAATTTTTAAATATTCATATTCAATTAAAATTGAAA\n",
      "gi|6273289|gb|AF191663.1|AF191      TTCTAATTCGAATTCAATTTTTAAATATTCATATTCAATTAAAATTGAAA\n",
      "gi|6273291|gb|AF191665.1|AF191      TTCTAATTCGAATTCAATTTTTAAATATTCATATTCAATTAAAATTGAAA\n",
      "                                    **************************************************\n",
      "\n",
      "gi|6273285|gb|AF191659.1|AF191      TTTTTTCATTCGCGAGGAGCCGGATGAGAAGAAACTCTCATGTCCGGTTC\n",
      "gi|6273284|gb|AF191658.1|AF191      TTTTTTCATTCGCGAGGAGCCGGATGAGAAGAAACTCTCATGTCCGGTTC\n",
      "gi|6273287|gb|AF191661.1|AF191      TTTTTTCATTCGCGAGGAGCCGGATGAGAAGAAACTCTCATGTCCGGTTC\n",
      "gi|6273286|gb|AF191660.1|AF191      TTTTTTCATTCGCGAGGAGCCGGATGAGAAGAAACTCTCATGTCCGGTTC\n",
      "gi|6273290|gb|AF191664.1|AF191      TTTTTTCATTCGCGAGGAGCCGGATGAGAAGAAACTCTCATGTCCGGTTC\n",
      "gi|6273289|gb|AF191663.1|AF191      TTTTTTCATTCGCGAGGAGCCGGATGAGAAGAAACTCTCATGTCCGGTTC\n",
      "gi|6273291|gb|AF191665.1|AF191      TTTTTTCATTCGCGAGGAGCCGGATGAGAAGAAACTCTCATGTCCGGTTC\n",
      "                                    **************************************************\n",
      "\n",
      "gi|6273285|gb|AF191659.1|AF191      TGTAGTAGAGATGGAATTAAGAAAAAACCATCAACTATAACCCCAAGAGA\n",
      "gi|6273284|gb|AF191658.1|AF191      TGTAGTAGAGATGGAATTAAGAAAAAACCATCAACTATAACCCCAAGAGA\n",
      "gi|6273287|gb|AF191661.1|AF191      TGTAGTAGAGATGGAATTAAGAAAAAACCATCAACTATAACCCCAAGAGA\n",
      "gi|6273286|gb|AF191660.1|AF191      TGTAGTAGAGATGGAATTAAGAAAAAACCATCAACTATAACCCCAAGAGA\n",
      "gi|6273290|gb|AF191664.1|AF191      TGTAGTAGAGATGGAATTAAGAAAAAACCATCAACTATAACCCCAAAAGA\n",
      "gi|6273289|gb|AF191663.1|AF191      TGTAGTAGAGATGGAATTAAGAAAAAACCATCAACTATAACCCCAAAAGA\n",
      "gi|6273291|gb|AF191665.1|AF191      TGTAGTAGAGATGGAATTAAGAAAAAACCATCAACTATAACCCCAAAAGA\n",
      "                                    ********************************************** ***\n",
      "\n",
      "gi|6273285|gb|AF191659.1|AF191      ACCAGA\n",
      "gi|6273284|gb|AF191658.1|AF191      ACCAGA\n",
      "gi|6273287|gb|AF191661.1|AF191      ACCAGA\n",
      "gi|6273286|gb|AF191660.1|AF191      ACCAGA\n",
      "gi|6273290|gb|AF191664.1|AF191      ACCAGA\n",
      "gi|6273289|gb|AF191663.1|AF191      ACCAGA\n",
      "gi|6273291|gb|AF191665.1|AF191      ACCAGA\n",
      "                                    ******\n",
      "\n"
     ]
    }
   ],
   "source": [
    "with open('samples/opuntia.aln', 'r') as f:\n",
    "    print(f.read())"
   ]
  },
  {
   "cell_type": "markdown",
   "metadata": {},
   "source": [
    "<h1>Задание 3</h1>\n",
    "<h2>Поддержка инструментов выравнивания последовательностей</h2>"
   ]
  },
  {
   "cell_type": "code",
   "execution_count": 15,
   "metadata": {},
   "outputs": [
    {
     "name": "stdout",
     "output_type": "stream",
     "text": [
      "Alignment with 7 rows and 906 columns\n",
      "TATACATTAAAGGAGGGGGATGCGGATAAATGGAAAGGCGAAAG...AGA gi|6273289|gb|AF191663.1|AF191663\n",
      "TATACATTAAAGGAGGGGGATGCGGATAAATGGAAAGGCGAAAG...AGA gi|6273291|gb|AF191665.1|AF191665\n",
      "TATACATTAAAGGAGGGGGATGCGGATAAATGGAAAGGCGAAAG...AGA gi|6273290|gb|AF191664.1|AF191664\n",
      "TATACATTAAAGAAGGGGGATGCGGATAAATGGAAAGGCGAAAG...AGA gi|6273287|gb|AF191661.1|AF191661\n",
      "TATACATAAAAGAAGGGGGATGCGGATAAATGGAAAGGCGAAAG...AGA gi|6273286|gb|AF191660.1|AF191660\n",
      "TATACATTAAAGAAGGGGGATGCGGATAAATGGAAAGGCGAAAG...AGA gi|6273285|gb|AF191659.1|AF191659\n",
      "TATACATTAAAGAAGGGGGATGCGGATAAATGGAAAGGCGAAAG...AGA gi|6273284|gb|AF191658.1|AF191658\n"
     ]
    }
   ],
   "source": [
    "from Bio.Align.Applications import MuscleCommandline\n",
    "from Bio import AlignIO\n",
    "\n",
    "muscle_exe = \"muscle3.8.31_i86win32\"\n",
    "\n",
    "# Входной файл с последовательностями (в формате FASTA)\n",
    "input_file = \"samples/opuntia.fasta\"\n",
    "\n",
    "# Выходной файл с выравниванием\n",
    "output_file = \"samples/aligned_sequences.fasta\"\n",
    "\n",
    "# Создаем команду MUSCLE\n",
    "muscle_cline = MuscleCommandline(muscle_exe, input=input_file, out=output_file)\n",
    "\n",
    "stdout, stderr = muscle_cline()\n",
    "\n",
    "alignment = AlignIO.read(output_file, \"fasta\")\n",
    "print(alignment)\n"
   ]
  },
  {
   "cell_type": "code",
   "execution_count": 16,
   "metadata": {},
   "outputs": [],
   "source": [
    "def needleman_wunsch(seq_f, seq_s, match=1, mismatch=-1, gap=-2):\n",
    "    \n",
    "    seq1 = str(seq_f)\n",
    "    seq2 = str(seq_s)\n",
    "    # Создаем матрицу\n",
    "    n = len(seq1) + 1\n",
    "    m = len(seq2) + 1\n",
    "    score_matrix = [[0] * m for _ in range(n)]\n",
    "    \n",
    "    # Инициализация первой строки и столбца\n",
    "    for i in range(n):\n",
    "        score_matrix[i][0] = i * gap\n",
    "    for j in range(m):\n",
    "        score_matrix[0][j] = j * gap\n",
    "    \n",
    "    # Заполнение матрицы\n",
    "    for i in range(1, n):\n",
    "        for j in range(1, m):\n",
    "            match_score = score_matrix[i-1][j-1] + (match if seq1[i-1] == seq2[j-1] else mismatch)\n",
    "            delete = score_matrix[i-1][j] + gap\n",
    "            insert = score_matrix[i][j-1] + gap\n",
    "            score_matrix[i][j] = max(match_score, delete, insert)\n",
    "    \n",
    "    # Трассировка пути\n",
    "    align1, align2 = \"\", \"\"\n",
    "    i, j = len(seq1), len(seq2)\n",
    "    while i > 0 or j > 0:\n",
    "        current_score = score_matrix[i][j]\n",
    "        if i > 0 and j > 0 and current_score == score_matrix[i-1][j-1] + (match if seq1[i-1] == seq2[j-1] else mismatch):\n",
    "            align1 = seq1[i-1] + align1\n",
    "            align2 = seq2[j-1] + align2\n",
    "            i -= 1\n",
    "            j -= 1\n",
    "        elif i > 0 and current_score == score_matrix[i-1][j] + gap:\n",
    "            align1 = seq1[i-1] + align1\n",
    "            align2 = \"-\" + align2\n",
    "            i -= 1\n",
    "        else:\n",
    "            align1 = \"-\" + align1\n",
    "            align2 = seq2[j-1] + align2\n",
    "            j -= 1\n",
    "    \n",
    "    return align1, align2, score_matrix[-1][-1]\n"
   ]
  },
  {
   "cell_type": "code",
   "execution_count": 17,
   "metadata": {},
   "outputs": [
    {
     "name": "stdout",
     "output_type": "stream",
     "text": [
      "Выравнивание:\n",
      "ACCGGT\n",
      "A-C-GT\n",
      "Суммарный балл выравнивания: 0\n"
     ]
    }
   ],
   "source": [
    "seq1 = Seq(\"ACCGGT\") \n",
    "seq2 = Seq(\"ACGT\")\n",
    "\n",
    "alignment1, alignment2, score = needleman_wunsch(seq1, seq2)\n",
    "\n",
    "print(\"Выравнивание:\")\n",
    "print(alignment1)\n",
    "print(alignment2)\n",
    "print(\"Суммарный балл выравнивания:\", score)"
   ]
  }
 ],
 "metadata": {
  "kernelspec": {
   "display_name": "Python 3",
   "language": "python",
   "name": "python3"
  },
  "language_info": {
   "codemirror_mode": {
    "name": "ipython",
    "version": 3
   },
   "file_extension": ".py",
   "mimetype": "text/x-python",
   "name": "python",
   "nbconvert_exporter": "python",
   "pygments_lexer": "ipython3",
   "version": "3.11.9"
  }
 },
 "nbformat": 4,
 "nbformat_minor": 2
}
