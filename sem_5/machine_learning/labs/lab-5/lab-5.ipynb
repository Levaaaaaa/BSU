{
 "cells": [
  {
   "cell_type": "code",
   "execution_count": null,
   "metadata": {},
   "outputs": [],
   "source": [
    "import numpy as np\n",
    "import torch\n",
    "from torch.utils.data import DataLoader, TensorDataset\n",
    "import pandas as pd"
   ]
  },
  {
   "cell_type": "code",
   "execution_count": null,
   "metadata": {},
   "outputs": [],
   "source": [
    "# Загрузка данных\n",
    "train_data = np.load(\"emnist-byclass-train.npz\")\n",
    "test_data = np.load(\"emnist-byclass-test.npz\")\n",
    "\n",
    "# Разделение на картинки и метки\n",
    "training_images = train_data[\"training_images\"]\n",
    "training_labels = train_data[\"training_labels\"]\n",
    "testing_images = test_data[\"testing_images\"]\n",
    "\n",
    "# Преобразование данных в формат тензоров PyTorch\n",
    "X_train = torch.tensor(training_images, dtype=torch.float32).unsqueeze(1) / 255.0  # Нормализация и добавление канала\n",
    "y_train = torch.tensor(training_labels, dtype=torch.long)\n",
    "\n",
    "X_test = torch.tensor(testing_images, dtype=torch.float32).unsqueeze(1) / 255.0\n",
    "\n",
    "# Создание DataLoader для обучения и тестирования\n",
    "train_loader = DataLoader(TensorDataset(X_train, y_train), batch_size=64, shuffle=True)\n",
    "test_loader = DataLoader(X_test, batch_size=64, shuffle=False)\n"
   ]
  },
  {
   "cell_type": "code",
   "execution_count": null,
   "metadata": {},
   "outputs": [],
   "source": [
    "import torch.nn as nn\n",
    "import torch.nn.functional as F\n",
    "\n",
    "class EMNISTModel(nn.Module):\n",
    "    def __init__(self):\n",
    "        super(EMNISTModel, self).__init__()\n",
    "        self.conv1 = nn.Conv2d(1, 32, kernel_size=3, padding=1)\n",
    "        self.conv2 = nn.Conv2d(32, 64, kernel_size=3, padding=1)\n",
    "        self.conv3 = nn.Conv2d(64, 128, kernel_size=3, padding=1)\n",
    "        self.pool = nn.MaxPool2d(2, 2)\n",
    "        self.fc1 = nn.Linear(128 * 3 * 3, 256)\n",
    "        self.fc2 = nn.Linear(256, 62)  # 62 класса для EMNIST\n",
    "\n",
    "    def forward(self, x):\n",
    "        x = self.pool(F.relu(self.conv1(x)))\n",
    "        x = self.pool(F.relu(self.conv2(x)))\n",
    "        x = self.pool(F.relu(self.conv3(x)))\n",
    "        x = x.view(-1, 128 * 3 * 3)\n",
    "        x = F.relu(self.fc1(x))\n",
    "        x = self.fc2(x)\n",
    "        return x\n"
   ]
  },
  {
   "cell_type": "code",
   "execution_count": null,
   "metadata": {},
   "outputs": [],
   "source": [
    "import torch.optim as optim\n",
    "\n",
    "# Инициализация модели, функции потерь и оптимизатора\n",
    "model = EMNISTModel()\n",
    "criterion = nn.CrossEntropyLoss()\n",
    "optimizer = optim.Adam(model.parameters(), lr=0.001)\n",
    "\n",
    "# Функция для обучения\n",
    "def train_model(model, train_loader, criterion, optimizer, epochs=10):\n",
    "    for epoch in range(epochs):\n",
    "        running_loss = 0.0\n",
    "        correct = 0\n",
    "        total = 0\n",
    "\n",
    "        for images, labels in train_loader:\n",
    "            optimizer.zero_grad()\n",
    "            outputs = model(images)\n",
    "            loss = criterion(outputs, labels)\n",
    "            loss.backward()\n",
    "            optimizer.step()\n",
    "\n",
    "            running_loss += loss.item()\n",
    "            _, predicted = torch.max(outputs, 1)\n",
    "            correct += (predicted == labels).sum().item()\n",
    "            total += labels.size(0)\n",
    "\n",
    "        train_accuracy = correct / total\n",
    "        print(f\"Epoch {epoch+1}, Loss: {running_loss/len(train_loader)}, Accuracy: {train_accuracy}\")\n"
   ]
  },
  {
   "cell_type": "code",
   "execution_count": null,
   "metadata": {},
   "outputs": [],
   "source": [
    "# Получение предсказаний на тестовой выборке\n",
    "def predict_and_save(model, test_loader, filename=\"predictions.csv\"):\n",
    "    model.eval()  # Переключаем модель в режим оценки\n",
    "    predictions = []\n",
    "\n",
    "    with torch.no_grad():\n",
    "        for i, images in enumerate(test_loader):\n",
    "            outputs = model(images)\n",
    "            _, predicted = torch.max(outputs, 1)\n",
    "            for j, pred in enumerate(predicted):\n",
    "                predictions.append({\"Id\": i * test_loader.batch_size + j, \"Category\": pred.item()})\n",
    "\n",
    "    # Сохранение предсказаний в CSV\n",
    "    predictions_df = pd.DataFrame(predictions)\n",
    "    predictions_df.to_csv(filename, index=False)\n"
   ]
  },
  {
   "cell_type": "code",
   "execution_count": null,
   "metadata": {},
   "outputs": [],
   "source": [
    "train_model(model, train_loader, criterion, optimizer, epochs=15)\n",
    "predict_and_save(model, test_loader)"
   ]
  }
 ],
 "metadata": {
  "kernelspec": {
   "display_name": "Python 3",
   "language": "python",
   "name": "python3"
  },
  "language_info": {
   "name": "python",
   "version": "3.12.6"
  }
 },
 "nbformat": 4,
 "nbformat_minor": 2
}
